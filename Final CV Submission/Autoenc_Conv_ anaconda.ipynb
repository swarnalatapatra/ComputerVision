{
 "cells": [
  {
   "cell_type": "markdown",
   "metadata": {},
   "source": [
    "# Importing Libraries"
   ]
  },
  {
   "cell_type": "code",
   "execution_count": 1,
   "metadata": {},
   "outputs": [
    {
     "name": "stderr",
     "output_type": "stream",
     "text": [
      "Using TensorFlow backend.\n"
     ]
    }
   ],
   "source": [
    "from lxml import etree\n",
    "import numpy as np\n",
    "import pandas as pd\n",
    "import os\n",
    "from skimage import io\n",
    "from skimage.transform import resize\n",
    "\n",
    "import keras\n",
    "from keras.layers import Input, InputLayer, Dense, Flatten, Reshape, Conv2D, Conv2DTranspose, MaxPool2D, MaxPooling2D, UpSampling2D, BatchNormalization, Activation\n",
    "from keras.models import Model, load_model\n",
    "from keras.callbacks import EarlyStopping, ModelCheckpoint\n",
    "from keras.optimizers import Adam\n",
    "import scipy.misc\n",
    "from PIL import Image\n",
    "from keras.utils import np_utils\n",
    "\n",
    "os.environ[\"KERAS_BACKEND\"] = \"tensorflow\"\n",
    "kerasBKED = os.environ[\"KERAS_BACKEND\"] \n",
    "\n",
    "import cv2\n",
    "import matplotlib.pyplot as plt\n",
    "\n",
    "from sklearn.model_selection import train_test_split\n",
    "import tensorflow as tf\n",
    "from keras.models import Sequential\n"
   ]
  },
  {
   "cell_type": "markdown",
   "metadata": {},
   "source": [
    "# Data Loading"
   ]
  },
  {
   "cell_type": "code",
   "execution_count": 2,
   "metadata": {},
   "outputs": [
    {
     "name": "stdout",
     "output_type": "stream",
     "text": [
      "748 training images from 3 classes\n",
      "731 validation images from 3 classes\n",
      "x: (748, 192, 192, 3) (731, 192, 192, 3)\n",
      "y: (748, 3) (731, 3)\n"
     ]
    }
   ],
   "source": [
    "# parameters that you should set before running this script\n",
    "# select class, this default should yield 1489 training and 1470 validation images\n",
    "\n",
    "filter = ['dog', 'bird', 'boat']\n",
    "\n",
    "# image size that you will use for your network (input images will be resampled to this size), \n",
    "image_size = 192    # 256\n",
    "\n",
    "n_classes=3\n",
    "img_x, img_y = image_size, image_size\n",
    "n_channels = 3 # RGB\n",
    "\n",
    "# please replace with the location on your laptop where you unpacked the tarball  \n",
    "voc_root_folder = \"C:/Users/Sumi/Desktop/NOTES SEM2/Computer Vision/CV Project/VOCdevkit\"\n",
    "\n",
    "\n",
    "# step1 - build list of filtered filenames\n",
    "annotation_folder = os.path.join(voc_root_folder, \"VOC2009/Annotations/\")\n",
    "annotation_files = os.listdir(annotation_folder)\n",
    "filtered_filenames = []\n",
    "for a_f in annotation_files:\n",
    "    tree = etree.parse(os.path.join(annotation_folder, a_f))\n",
    "    if np.any([tag.text == filt for tag in tree.iterfind(\".//name\") for filt in filter]):\n",
    "        filtered_filenames.append(a_f[:-4])\n",
    "\n",
    "# step2 - build (x,y) for TRAIN/VAL (classification)\n",
    "classes_folder = os.path.join(voc_root_folder, \"VOC2009/ImageSets/Main/\")\n",
    "classes_files = os.listdir(classes_folder)\n",
    "train_files = [os.path.join(classes_folder, c_f) for filt in filter for c_f in classes_files if filt in c_f and '_train.txt' in c_f]\n",
    "val_files   = [os.path.join(classes_folder, c_f) for filt in filter for c_f in classes_files if filt in c_f and '_val.txt' in c_f]\n",
    "\n",
    "\n",
    "def build_classification_dataset(list_of_files):\n",
    "    \"\"\" build training or validation set\n",
    "\n",
    "    :param list_of_files: list of filenames to build trainset with\n",
    "    :return: tuple with x np.ndarray of shape (n_images, image_size, image_size, 3) and  y np.ndarray of shape (n_images, n_classes)\n",
    "    \"\"\"\n",
    "    temp = []\n",
    "    train_labels = []\n",
    "    for f_cf in list_of_files:\n",
    "        with open(f_cf) as file:\n",
    "            lines = file.read().splitlines()\n",
    "            temp.append([line.split()[0] for line in lines if int(line.split()[-1]) == 1])\n",
    "            label_id = [f_ind for f_ind, filt in enumerate(filter) if filt in f_cf][0]\n",
    "            train_labels.append(len(temp[-1]) * [label_id])\n",
    "    train_filter = [item for l in temp for item in l]\n",
    "\n",
    "    image_folder = os.path.join(voc_root_folder, \"VOC2009/JPEGImages/\")\n",
    "    image_filenames = [os.path.join(image_folder, file) for f in train_filter for file in os.listdir(image_folder) if\n",
    "                       f in file]\n",
    "    x = np.array([resize(io.imread(img_f), (image_size, image_size, 3)) for img_f in image_filenames]).astype(\n",
    "        'float32')\n",
    "    # changed y to an array of shape (num_examples, num_classes) with 0 if class is not present and 1 if class is present\n",
    "    y_temp = []\n",
    "    for tf in train_filter:\n",
    "        y_temp.append([1 if tf in l else 0 for l in temp])\n",
    "    y = np.array(y_temp)\n",
    "\n",
    "    return x, y\n",
    "\n",
    "# Images are in RGB format\n",
    "\n",
    "x_train, y_train = build_classification_dataset(train_files)\n",
    "print('%i training images from %i classes' %(x_train.shape[0], y_train.shape[1]))\n",
    "x_val, y_val = build_classification_dataset(val_files)\n",
    "print('%i validation images from %i classes' %(x_val.shape[0],  y_train.shape[1]))\n",
    "print(\"x:\", x_train.shape, x_val.shape)\n",
    "print(\"y:\", y_train.shape, y_val.shape)\n"
   ]
  },
  {
   "cell_type": "markdown",
   "metadata": {},
   "source": [
    "## Loading Data into Pkl files to use in Google colab"
   ]
  },
  {
   "cell_type": "code",
   "execution_count": 8,
   "metadata": {},
   "outputs": [
    {
     "name": "stdout",
     "output_type": "stream",
     "text": [
      "X_Train shape before reshaping = (748, 192, 192, 3)\n",
      "X_Val shape before reshaping = (731, 192, 192, 3) \n",
      "\n",
      "X_Train shape after reshaping = (748, 110592)\n",
      "X_Val shape after reshaping = (731, 110592)\n"
     ]
    }
   ],
   "source": [
    "X_Train = x_train.copy()\n",
    "X_Val = x_val.copy()\n",
    "X_Train = (255*X_Train).astype('uint8')\n",
    "X_Val = (255*X_Val).astype('uint8')\n",
    "\n",
    "print('X_Train shape before reshaping = ' + str(X_Train.shape))\n",
    "print('X_Val shape before reshaping = ' + str(X_Val.shape),\"\\n\")\n",
    "X_Train = X_Train.reshape(X_Train.shape[0],img_x*img_y*n_channels)\n",
    "X_Val = X_Val.reshape(X_Val.shape[0],img_x*img_y*n_channels)\n",
    "print('X_Train shape after reshaping = ' + str(X_Train.shape))\n",
    "print('X_Val shape after reshaping = ' + str(X_Val.shape))\n",
    "\n",
    "# Save the reshaped images into pickel file\n",
    "X_TrainCopy = X_Train.copy()\n",
    "\n",
    "train_images = []\n",
    "for i in range(len(X_TrainCopy)):\n",
    "    train_images.append(X_TrainCopy[i])\n",
    "# print(len(train_images))  \n",
    "\n",
    "train_classes = []\n",
    "for i in range(len(y_train)):\n",
    "    train_classes.append(y_train[i])\n",
    "# print(len(train_classes))  \n"
   ]
  },
  {
   "cell_type": "markdown",
   "metadata": {},
   "source": [
    "## Saving Train data to pickle files"
   ]
  },
  {
   "cell_type": "code",
   "execution_count": 9,
   "metadata": {
    "scrolled": true
   },
   "outputs": [
    {
     "name": "stdout",
     "output_type": "stream",
     "text": [
      "Saved the training images into pickle file\n",
      "(748, 2)\n"
     ]
    },
    {
     "data": {
      "text/html": [
       "<div>\n",
       "<style scoped>\n",
       "    .dataframe tbody tr th:only-of-type {\n",
       "        vertical-align: middle;\n",
       "    }\n",
       "\n",
       "    .dataframe tbody tr th {\n",
       "        vertical-align: top;\n",
       "    }\n",
       "\n",
       "    .dataframe thead th {\n",
       "        text-align: right;\n",
       "    }\n",
       "</style>\n",
       "<table border=\"1\" class=\"dataframe\">\n",
       "  <thead>\n",
       "    <tr style=\"text-align: right;\">\n",
       "      <th></th>\n",
       "      <th>Image_Array</th>\n",
       "      <th>Class</th>\n",
       "    </tr>\n",
       "  </thead>\n",
       "  <tbody>\n",
       "    <tr>\n",
       "      <th>0</th>\n",
       "      <td>[166, 194, 235, 167, 196, 235, 167, 195, 235, ...</td>\n",
       "      <td>[0, 0, 1]</td>\n",
       "    </tr>\n",
       "    <tr>\n",
       "      <th>1</th>\n",
       "      <td>[53, 52, 48, 74, 75, 68, 76, 79, 69, 80, 82, 7...</td>\n",
       "      <td>[1, 0, 0]</td>\n",
       "    </tr>\n",
       "    <tr>\n",
       "      <th>2</th>\n",
       "      <td>[38, 30, 24, 46, 33, 31, 47, 39, 36, 54, 42, 3...</td>\n",
       "      <td>[1, 0, 0]</td>\n",
       "    </tr>\n",
       "    <tr>\n",
       "      <th>3</th>\n",
       "      <td>[255, 255, 255, 255, 255, 255, 255, 255, 254, ...</td>\n",
       "      <td>[1, 0, 0]</td>\n",
       "    </tr>\n",
       "    <tr>\n",
       "      <th>4</th>\n",
       "      <td>[249, 216, 247, 251, 201, 236, 252, 219, 246, ...</td>\n",
       "      <td>[0, 1, 0]</td>\n",
       "    </tr>\n",
       "  </tbody>\n",
       "</table>\n",
       "</div>"
      ],
      "text/plain": [
       "                                         Image_Array      Class\n",
       "0  [166, 194, 235, 167, 196, 235, 167, 195, 235, ...  [0, 0, 1]\n",
       "1  [53, 52, 48, 74, 75, 68, 76, 79, 69, 80, 82, 7...  [1, 0, 0]\n",
       "2  [38, 30, 24, 46, 33, 31, 47, 39, 36, 54, 42, 3...  [1, 0, 0]\n",
       "3  [255, 255, 255, 255, 255, 255, 255, 255, 254, ...  [1, 0, 0]\n",
       "4  [249, 216, 247, 251, 201, 236, 252, 219, 246, ...  [0, 1, 0]"
      ]
     },
     "execution_count": 9,
     "metadata": {},
     "output_type": "execute_result"
    }
   ],
   "source": [
    "\n",
    "X_Train_df = pd.DataFrame()\n",
    "X_Train_df['Image_Array'] = train_images\n",
    "X_Train_df['Class'] = train_classes\n",
    "\n",
    "# Reshuffle the images & it's respective class labels\n",
    "X_Train_df = X_Train_df.sample(frac=1).reset_index(drop=True)  \n",
    "\n",
    "X_Train_df.to_pickle('X_Train_'+str(n_classes)+'classes_'+str(img_x)+'_'+str(img_y)+'.pkl') #Save the file as pickle\n",
    "print('Saved the training images into pickle file')\n",
    "print(X_Train_df.shape)\n",
    "X_Train_df.head()"
   ]
  },
  {
   "cell_type": "markdown",
   "metadata": {},
   "source": [
    "## Split the val set into Validation and test by Reshuffling\n"
   ]
  },
  {
   "cell_type": "code",
   "execution_count": 10,
   "metadata": {},
   "outputs": [
    {
     "name": "stdout",
     "output_type": "stream",
     "text": [
      "Original shape of validation_df: (731, 2)\n",
      "Saved the validation and test images into pickle\n",
      "(431, 2)\n"
     ]
    },
    {
     "data": {
      "text/html": [
       "<div>\n",
       "<style scoped>\n",
       "    .dataframe tbody tr th:only-of-type {\n",
       "        vertical-align: middle;\n",
       "    }\n",
       "\n",
       "    .dataframe tbody tr th {\n",
       "        vertical-align: top;\n",
       "    }\n",
       "\n",
       "    .dataframe thead th {\n",
       "        text-align: right;\n",
       "    }\n",
       "</style>\n",
       "<table border=\"1\" class=\"dataframe\">\n",
       "  <thead>\n",
       "    <tr style=\"text-align: right;\">\n",
       "      <th></th>\n",
       "      <th>Image_Array</th>\n",
       "      <th>Class</th>\n",
       "    </tr>\n",
       "  </thead>\n",
       "  <tbody>\n",
       "    <tr>\n",
       "      <th>300</th>\n",
       "      <td>[75, 102, 62, 100, 119, 76, 99, 119, 71, 97, 1...</td>\n",
       "      <td>[1, 0, 0]</td>\n",
       "    </tr>\n",
       "    <tr>\n",
       "      <th>301</th>\n",
       "      <td>[97, 98, 80, 99, 98, 83, 101, 99, 86, 102, 100...</td>\n",
       "      <td>[1, 0, 0]</td>\n",
       "    </tr>\n",
       "    <tr>\n",
       "      <th>302</th>\n",
       "      <td>[41, 10, 4, 39, 15, 7, 74, 54, 40, 75, 56, 39,...</td>\n",
       "      <td>[1, 0, 0]</td>\n",
       "    </tr>\n",
       "    <tr>\n",
       "      <th>303</th>\n",
       "      <td>[178, 202, 236, 176, 202, 236, 177, 202, 236, ...</td>\n",
       "      <td>[0, 0, 1]</td>\n",
       "    </tr>\n",
       "    <tr>\n",
       "      <th>304</th>\n",
       "      <td>[112, 141, 177, 113, 142, 177, 114, 143, 179, ...</td>\n",
       "      <td>[0, 0, 1]</td>\n",
       "    </tr>\n",
       "  </tbody>\n",
       "</table>\n",
       "</div>"
      ],
      "text/plain": [
       "                                           Image_Array      Class\n",
       "300  [75, 102, 62, 100, 119, 76, 99, 119, 71, 97, 1...  [1, 0, 0]\n",
       "301  [97, 98, 80, 99, 98, 83, 101, 99, 86, 102, 100...  [1, 0, 0]\n",
       "302  [41, 10, 4, 39, 15, 7, 74, 54, 40, 75, 56, 39,...  [1, 0, 0]\n",
       "303  [178, 202, 236, 176, 202, 236, 177, 202, 236, ...  [0, 0, 1]\n",
       "304  [112, 141, 177, 113, 142, 177, 114, 143, 179, ...  [0, 0, 1]"
      ]
     },
     "execution_count": 10,
     "metadata": {},
     "output_type": "execute_result"
    }
   ],
   "source": [
    "X_ValCopy = X_Val.copy()\n",
    "val_images = []\n",
    "for i in range(len(X_ValCopy)):\n",
    "    val_images.append(X_ValCopy[i])\n",
    "# print(len(val_images))  \n",
    "\n",
    "val_classes = []\n",
    "for i in range(len(y_val)):\n",
    "    val_classes.append(y_val[i])\n",
    "# print(len(val_classes))  \n",
    "\n",
    "X_Val_df = pd.DataFrame()\n",
    "X_Val_df['Image_Array'] = val_images\n",
    "X_Val_df['Class'] = val_classes\n",
    "\n",
    "print('Original shape of validation_df: ' + str(X_Val_df.shape))\n",
    "\n",
    "#Reshuffle the images & it's respective class labels\n",
    "X_Val_df = X_Val_df.sample(frac=1).reset_index(drop=True) \n",
    "\n",
    "#Hard coded to 300\n",
    "X_Test_df = X_Val_df[:300]\n",
    "X_Val_df = X_Val_df[300:]\n",
    "\n",
    "X_Val_df.to_pickle('X_Val_'+str(n_classes)+'classes_'+str(img_x)+'_'+str(img_y)+'.pkl') #Save the file as pickle\n",
    "print('Saved the validation and test images into pickle')\n",
    "print(X_Val_df.shape)\n",
    "X_Val_df.head()\n"
   ]
  },
  {
   "cell_type": "code",
   "execution_count": 11,
   "metadata": {
    "scrolled": true
   },
   "outputs": [
    {
     "name": "stdout",
     "output_type": "stream",
     "text": [
      "Saved the test images into pickle\n",
      "(300, 2)\n"
     ]
    },
    {
     "data": {
      "text/html": [
       "<div>\n",
       "<style scoped>\n",
       "    .dataframe tbody tr th:only-of-type {\n",
       "        vertical-align: middle;\n",
       "    }\n",
       "\n",
       "    .dataframe tbody tr th {\n",
       "        vertical-align: top;\n",
       "    }\n",
       "\n",
       "    .dataframe thead th {\n",
       "        text-align: right;\n",
       "    }\n",
       "</style>\n",
       "<table border=\"1\" class=\"dataframe\">\n",
       "  <thead>\n",
       "    <tr style=\"text-align: right;\">\n",
       "      <th></th>\n",
       "      <th>Image_Array</th>\n",
       "      <th>Class</th>\n",
       "    </tr>\n",
       "  </thead>\n",
       "  <tbody>\n",
       "    <tr>\n",
       "      <th>0</th>\n",
       "      <td>[156, 163, 169, 161, 168, 174, 170, 177, 183, ...</td>\n",
       "      <td>[1, 0, 0]</td>\n",
       "    </tr>\n",
       "    <tr>\n",
       "      <th>1</th>\n",
       "      <td>[207, 206, 211, 207, 206, 208, 208, 206, 211, ...</td>\n",
       "      <td>[0, 0, 1]</td>\n",
       "    </tr>\n",
       "    <tr>\n",
       "      <th>2</th>\n",
       "      <td>[62, 67, 57, 66, 70, 59, 65, 72, 66, 71, 76, 6...</td>\n",
       "      <td>[0, 1, 0]</td>\n",
       "    </tr>\n",
       "    <tr>\n",
       "      <th>3</th>\n",
       "      <td>[0, 0, 0, 0, 0, 0, 0, 0, 0, 0, 0, 0, 0, 0, 0, ...</td>\n",
       "      <td>[0, 1, 0]</td>\n",
       "    </tr>\n",
       "    <tr>\n",
       "      <th>4</th>\n",
       "      <td>[88, 104, 118, 95, 113, 126, 89, 107, 117, 94,...</td>\n",
       "      <td>[0, 0, 1]</td>\n",
       "    </tr>\n",
       "  </tbody>\n",
       "</table>\n",
       "</div>"
      ],
      "text/plain": [
       "                                         Image_Array      Class\n",
       "0  [156, 163, 169, 161, 168, 174, 170, 177, 183, ...  [1, 0, 0]\n",
       "1  [207, 206, 211, 207, 206, 208, 208, 206, 211, ...  [0, 0, 1]\n",
       "2  [62, 67, 57, 66, 70, 59, 65, 72, 66, 71, 76, 6...  [0, 1, 0]\n",
       "3  [0, 0, 0, 0, 0, 0, 0, 0, 0, 0, 0, 0, 0, 0, 0, ...  [0, 1, 0]\n",
       "4  [88, 104, 118, 95, 113, 126, 89, 107, 117, 94,...  [0, 0, 1]"
      ]
     },
     "execution_count": 11,
     "metadata": {},
     "output_type": "execute_result"
    }
   ],
   "source": [
    "#Save also test image\n",
    "X_Test_df.to_pickle('X_Test_'+str(n_classes)+'classes_'+str(img_x)+'_'+str(img_y)+'.pkl') #Save the file as pickle\n",
    "print('Saved the test images into pickle')\n",
    "print(X_Test_df.shape)\n",
    "X_Test_df.head()"
   ]
  },
  {
   "cell_type": "markdown",
   "metadata": {},
   "source": [
    "## Read the saved images - Only needed to run in Google colab\n"
   ]
  },
  {
   "cell_type": "code",
   "execution_count": 9,
   "metadata": {},
   "outputs": [],
   "source": [
    "\n",
    "# train_df = pd.read_pickle('X_Train_2classes_256_256.pkl')\n",
    "# print('Training images')\n",
    "# x_train_array = np.array(train_df['Image_Array'].values.tolist())\n",
    "# x_train = x_train_array.reshape(x_train_array.shape[0],256,256,3)\n",
    "# print(x_train.shape)\n",
    "# y_train = np.array(train_df['Class'].values.tolist())\n",
    "# print(y_train.shape)\n",
    "\n",
    "# print(train_df.shape)\n",
    "# train_df.head()\n",
    "\n",
    "# val_df = pd.read_pickle('X_Val_2classes_256_256.pkl')\n",
    "# print('validation images')\n",
    "# x_val_array = np.array(val_df['Image_Array'].values.tolist())\n",
    "# x_val = x_val_array.reshape(x_val_array.shape[0],256,256,3)\n",
    "# print(x_val.shape)\n",
    "# y_val = np.array(val_df['Class'].values.tolist())\n",
    "# print(y_val.shape)\n",
    "\n",
    "# print(val_df.shape)\n",
    "# val_df.head()\n",
    "\n",
    "# test_df = pd.read_pickle('X_Test_2classes_256_256.pkl')\n",
    "# test_df.reset_index(drop=True,inplace=True)\n",
    "# print('testing images')\n",
    "# x_test_array = np.array(test_df['Image_Array'].values.tolist())\n",
    "# x_test = x_test_array.reshape(x_test_array.shape[0],256,256,3)\n",
    "# print(x_test.shape)\n",
    "# y_test = np.array(test_df['Class'].values.tolist())\n",
    "# print(y_test.shape)\n",
    "\n",
    "# print(test_df.shape)\n",
    "# test_df.head()"
   ]
  }
 ],
 "metadata": {
  "kernelspec": {
   "display_name": "Python 3",
   "language": "python",
   "name": "python3"
  },
  "language_info": {
   "codemirror_mode": {
    "name": "ipython",
    "version": 3
   },
   "file_extension": ".py",
   "mimetype": "text/x-python",
   "name": "python",
   "nbconvert_exporter": "python",
   "pygments_lexer": "ipython3",
   "version": "3.6.9"
  }
 },
 "nbformat": 4,
 "nbformat_minor": 2
}
