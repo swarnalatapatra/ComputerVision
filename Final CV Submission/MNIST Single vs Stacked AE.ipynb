{
 "cells": [
  {
   "cell_type": "markdown",
   "metadata": {},
   "source": [
    "# Autoencoders for MNIST dataset\n",
    "Ref: https://ramhiser.com/post/2018-05-14-autoencoders-with-keras/"
   ]
  },
  {
   "cell_type": "code",
   "execution_count": 1,
   "metadata": {},
   "outputs": [
    {
     "name": "stderr",
     "output_type": "stream",
     "text": [
      "Using TensorFlow backend.\n"
     ]
    }
   ],
   "source": [
    "from IPython.display import Image, SVG\n",
    "import matplotlib.pyplot as plt\n",
    "\n",
    "%matplotlib inline\n",
    "\n",
    "import numpy as np\n",
    "import keras\n",
    "from keras.datasets import mnist\n",
    "from keras.models import Model, Sequential\n",
    "from keras.layers import Input, Dense, Conv2D, MaxPooling2D, UpSampling2D, Flatten, Reshape\n",
    "from keras import regularizers"
   ]
  },
  {
   "cell_type": "markdown",
   "metadata": {},
   "source": [
    "# Loading Data"
   ]
  },
  {
   "cell_type": "code",
   "execution_count": 3,
   "metadata": {},
   "outputs": [
    {
     "name": "stdout",
     "output_type": "stream",
     "text": [
      "Downloading data from https://s3.amazonaws.com/img-datasets/mnist.npz\n",
      "11493376/11490434 [==============================] - 7s 1us/step\n"
     ]
    }
   ],
   "source": [
    "# Loads the training and test data sets (ignoring class labels)\n",
    "(x_train, _), (x_test, _) = mnist.load_data()\n",
    "\n",
    "# Scales the training and test data to range between 0 and 1.\n",
    "max_value = float(x_train.max()) # we take the max of train data as we assume the test data is not known to us.\n",
    "\n",
    "x_train = x_train.astype('float32') / max_value\n",
    "x_test = x_test.astype('float32') / max_value"
   ]
  },
  {
   "cell_type": "code",
   "execution_count": 4,
   "metadata": {},
   "outputs": [
    {
     "data": {
      "text/plain": [
       "((60000, 28, 28), (10000, 28, 28))"
      ]
     },
     "execution_count": 4,
     "metadata": {},
     "output_type": "execute_result"
    }
   ],
   "source": [
    "x_train.shape, x_test.shape\n",
    "# ((60000, 28, 28), (10000, 28, 28))"
   ]
  },
  {
   "cell_type": "code",
   "execution_count": 5,
   "metadata": {},
   "outputs": [
    {
     "data": {
      "text/plain": [
       "((60000, 784), (10000, 784))"
      ]
     },
     "execution_count": 5,
     "metadata": {},
     "output_type": "execute_result"
    }
   ],
   "source": [
    "#Converting 2D images to vectors\n",
    "\n",
    "x_train = x_train.reshape((len(x_train), np.prod(x_train.shape[1:])))\n",
    "x_test = x_test.reshape((len(x_test), np.prod(x_test.shape[1:])))\n",
    "\n",
    "(x_train.shape, x_test.shape)\n",
    "# ((60000, 784), (10000, 784))\n"
   ]
  },
  {
   "cell_type": "markdown",
   "metadata": {},
   "source": [
    "The encoder function uses a ReLU activation function, while the decoder function uses a sigmoid activation function."
   ]
  },
  {
   "cell_type": "code",
   "execution_count": 14,
   "metadata": {},
   "outputs": [
    {
     "name": "stdout",
     "output_type": "stream",
     "text": [
      "Compression factor: 24.5\n",
      "_________________________________________________________________\n",
      "Layer (type)                 Output Shape              Param #   \n",
      "=================================================================\n",
      "dense_9 (Dense)              (None, 32)                25120     \n",
      "_________________________________________________________________\n",
      "dense_10 (Dense)             (None, 784)               25872     \n",
      "=================================================================\n",
      "Total params: 50,992\n",
      "Trainable params: 50,992\n",
      "Non-trainable params: 0\n",
      "_________________________________________________________________\n"
     ]
    }
   ],
   "source": [
    "# Here, the compressed image has a dimension of 32. \n",
    "# The encoder model reduces the dimension from the original 784-dim vector to the encoded 32-dim vector. \n",
    "#The decoder model restores the dimension from the encoded 32-dim representation back to the original 784-dim vector.\n",
    "\n",
    "input_dim = x_train.shape[1]\n",
    "encoding_dim = 32\n",
    "\n",
    "compression_factor = float(input_dim) / encoding_dim\n",
    "print(\"Compression factor: %s\" % compression_factor)\n",
    "# Compression factor: 24.5 (ratio of input dimension to encoded dimension)\n",
    "\n",
    "pca_autoencoder = Sequential()\n",
    "pca_autoencoder.add(\n",
    "    Dense(encoding_dim, input_shape=(input_dim,), activation='relu')\n",
    ")\n",
    "pca_autoencoder.add(\n",
    "    Dense(input_dim, activation='sigmoid')\n",
    ")\n",
    "\n",
    "pca_autoencoder.summary()\n"
   ]
  },
  {
   "cell_type": "markdown",
   "metadata": {},
   "source": [
    "# Encoder Model\n",
    "(Single layer - acting as PCA)"
   ]
  },
  {
   "cell_type": "code",
   "execution_count": 16,
   "metadata": {},
   "outputs": [
    {
     "name": "stdout",
     "output_type": "stream",
     "text": [
      "_________________________________________________________________\n",
      "Layer (type)                 Output Shape              Param #   \n",
      "=================================================================\n",
      "input_4 (InputLayer)         (None, 784)               0         \n",
      "_________________________________________________________________\n",
      "dense_9 (Dense)              (None, 32)                25120     \n",
      "=================================================================\n",
      "Total params: 25,120\n",
      "Trainable params: 25,120\n",
      "Non-trainable params: 0\n",
      "_________________________________________________________________\n"
     ]
    }
   ],
   "source": [
    "input_img = Input(shape=(input_dim,))\n",
    "pca_encoder_layer = pca_autoencoder.layers[0]\n",
    "pca_encoder = Model(input_img, pca_encoder_layer(input_img))\n",
    "\n",
    "pca_encoder.summary()"
   ]
  },
  {
   "cell_type": "markdown",
   "metadata": {},
   "source": [
    "Train the first autoencoder\n",
    "The repeat of x_train in autoencoder.fit(x_train, x_train, ...) - implies that x_train is both the input and output, which is exactly what we want for image reconstruction."
   ]
  },
  {
   "cell_type": "code",
   "execution_count": 17,
   "metadata": {},
   "outputs": [
    {
     "name": "stdout",
     "output_type": "stream",
     "text": [
      "Train on 60000 samples, validate on 10000 samples\n",
      "Epoch 1/50\n",
      "60000/60000 [==============================] - 4s 64us/step - loss: 0.2758 - acc: 0.7815 - mean_squared_error: 0.0696 - val_loss: 0.1885 - val_acc: 0.7992 - val_mean_squared_error: 0.0407\n",
      "Epoch 2/50\n",
      "60000/60000 [==============================] - 3s 54us/step - loss: 0.1706 - acc: 0.8025 - mean_squared_error: 0.0346 - val_loss: 0.1533 - val_acc: 0.8046 - val_mean_squared_error: 0.0290\n",
      "Epoch 3/50\n",
      "60000/60000 [==============================] - 7s 121us/step - loss: 0.1436 - acc: 0.8073 - mean_squared_error: 0.0257 - val_loss: 0.1327 - val_acc: 0.8082 - val_mean_squared_error: 0.0223\n",
      "Epoch 4/50\n",
      "60000/60000 [==============================] - 3s 55us/step - loss: 0.1276 - acc: 0.8099 - mean_squared_error: 0.0206 - val_loss: 0.1205 - val_acc: 0.8100 - val_mean_squared_error: 0.0184\n",
      "Epoch 5/50\n",
      "60000/60000 [==============================] - 6s 102us/step - loss: 0.1175 - acc: 0.8113 - mean_squared_error: 0.0174 - val_loss: 0.1123 - val_acc: 0.8112 - val_mean_squared_error: 0.0158\n",
      "Epoch 6/50\n",
      "60000/60000 [==============================] - 4s 72us/step - loss: 0.1106 - acc: 0.8123 - mean_squared_error: 0.0152 - val_loss: 0.1065 - val_acc: 0.8118 - val_mean_squared_error: 0.0140\n",
      "Epoch 7/50\n",
      "60000/60000 [==============================] - 4s 61us/step - loss: 0.1055 - acc: 0.8129 - mean_squared_error: 0.0136 - val_loss: 0.1021 - val_acc: 0.8124 - val_mean_squared_error: 0.0127\n",
      "Epoch 8/50\n",
      "60000/60000 [==============================] - 7s 117us/step - loss: 0.1018 - acc: 0.8134 - mean_squared_error: 0.0125 - val_loss: 0.0991 - val_acc: 0.8127 - val_mean_squared_error: 0.0118\n",
      "Epoch 9/50\n",
      "60000/60000 [==============================] - 4s 58us/step - loss: 0.0991 - acc: 0.8137 - mean_squared_error: 0.0117 - val_loss: 0.0968 - val_acc: 0.8129 - val_mean_squared_error: 0.0111\n",
      "Epoch 10/50\n",
      "60000/60000 [==============================] - 7s 120us/step - loss: 0.0973 - acc: 0.8138 - mean_squared_error: 0.0112 - val_loss: 0.0953 - val_acc: 0.8130 - val_mean_squared_error: 0.0107\n",
      "Epoch 11/50\n",
      "60000/60000 [==============================] - 3s 55us/step - loss: 0.0961 - acc: 0.8140 - mean_squared_error: 0.0109 - val_loss: 0.0943 - val_acc: 0.8130 - val_mean_squared_error: 0.0104\n",
      "Epoch 12/50\n",
      "60000/60000 [==============================] - 4s 61us/step - loss: 0.0953 - acc: 0.8140 - mean_squared_error: 0.0107 - val_loss: 0.0937 - val_acc: 0.8132 - val_mean_squared_error: 0.0103\n",
      "Epoch 13/50\n",
      "60000/60000 [==============================] - 7s 115us/step - loss: 0.0948 - acc: 0.8141 - mean_squared_error: 0.0105 - val_loss: 0.0933 - val_acc: 0.8132 - val_mean_squared_error: 0.0102\n",
      "Epoch 14/50\n",
      "60000/60000 [==============================] - 3s 56us/step - loss: 0.0944 - acc: 0.8141 - mean_squared_error: 0.0104 - val_loss: 0.0930 - val_acc: 0.8133 - val_mean_squared_error: 0.0101\n",
      "Epoch 15/50\n",
      "60000/60000 [==============================] - 7s 118us/step - loss: 0.0942 - acc: 0.8141 - mean_squared_error: 0.0104 - val_loss: 0.0927 - val_acc: 0.8132 - val_mean_squared_error: 0.0100\n",
      "Epoch 16/50\n",
      "60000/60000 [==============================] - 3s 57us/step - loss: 0.0940 - acc: 0.8141 - mean_squared_error: 0.0103 - val_loss: 0.0925 - val_acc: 0.8133 - val_mean_squared_error: 0.0099\n",
      "Epoch 17/50\n",
      "60000/60000 [==============================] - 6s 99us/step - loss: 0.0938 - acc: 0.8141 - mean_squared_error: 0.0103 - val_loss: 0.0923 - val_acc: 0.8133 - val_mean_squared_error: 0.0099\n",
      "Epoch 18/50\n",
      "60000/60000 [==============================] - 4s 74us/step - loss: 0.0937 - acc: 0.8142 - mean_squared_error: 0.0102 - val_loss: 0.0923 - val_acc: 0.8133 - val_mean_squared_error: 0.0099\n",
      "Epoch 19/50\n",
      "60000/60000 [==============================] - 4s 60us/step - loss: 0.0935 - acc: 0.8142 - mean_squared_error: 0.0102 - val_loss: 0.0923 - val_acc: 0.8132 - val_mean_squared_error: 0.0098\n",
      "Epoch 20/50\n",
      "60000/60000 [==============================] - 7s 116us/step - loss: 0.0935 - acc: 0.8142 - mean_squared_error: 0.0102 - val_loss: 0.0921 - val_acc: 0.8133 - val_mean_squared_error: 0.0098\n",
      "Epoch 21/50\n",
      "60000/60000 [==============================] - 3s 58us/step - loss: 0.0934 - acc: 0.8142 - mean_squared_error: 0.0101 - val_loss: 0.0921 - val_acc: 0.8132 - val_mean_squared_error: 0.0098\n",
      "Epoch 22/50\n",
      "60000/60000 [==============================] - 7s 119us/step - loss: 0.0933 - acc: 0.8142 - mean_squared_error: 0.0101 - val_loss: 0.0921 - val_acc: 0.8132 - val_mean_squared_error: 0.0098\n",
      "Epoch 23/50\n",
      "60000/60000 [==============================] - 4s 60us/step - loss: 0.0932 - acc: 0.8142 - mean_squared_error: 0.0101 - val_loss: 0.0920 - val_acc: 0.8132 - val_mean_squared_error: 0.0098\n",
      "Epoch 24/50\n",
      "60000/60000 [==============================] - 3s 58us/step - loss: 0.0932 - acc: 0.8142 - mean_squared_error: 0.0101 - val_loss: 0.0919 - val_acc: 0.8133 - val_mean_squared_error: 0.0098\n",
      "Epoch 25/50\n",
      "60000/60000 [==============================] - 7s 119us/step - loss: 0.0931 - acc: 0.8142 - mean_squared_error: 0.0101 - val_loss: 0.0919 - val_acc: 0.8133 - val_mean_squared_error: 0.0097\n",
      "Epoch 26/50\n",
      "60000/60000 [==============================] - 4s 59us/step - loss: 0.0931 - acc: 0.8142 - mean_squared_error: 0.0101 - val_loss: 0.0919 - val_acc: 0.8133 - val_mean_squared_error: 0.0097\n",
      "Epoch 27/50\n",
      "60000/60000 [==============================] - 7s 117us/step - loss: 0.0930 - acc: 0.8142 - mean_squared_error: 0.0100 - val_loss: 0.0918 - val_acc: 0.8133 - val_mean_squared_error: 0.0097\n",
      "Epoch 28/50\n",
      "60000/60000 [==============================] - 3s 57us/step - loss: 0.0930 - acc: 0.8142 - mean_squared_error: 0.0100 - val_loss: 0.0918 - val_acc: 0.8133 - val_mean_squared_error: 0.0097\n",
      "Epoch 29/50\n",
      "60000/60000 [==============================] - 5s 91us/step - loss: 0.0930 - acc: 0.8142 - mean_squared_error: 0.0100 - val_loss: 0.0918 - val_acc: 0.8133 - val_mean_squared_error: 0.0097\n",
      "Epoch 30/50\n",
      "60000/60000 [==============================] - 5s 83us/step - loss: 0.0930 - acc: 0.8142 - mean_squared_error: 0.0100 - val_loss: 0.0917 - val_acc: 0.8133 - val_mean_squared_error: 0.0097\n",
      "Epoch 31/50\n",
      "60000/60000 [==============================] - 3s 56us/step - loss: 0.0929 - acc: 0.8142 - mean_squared_error: 0.0100 - val_loss: 0.0917 - val_acc: 0.8133 - val_mean_squared_error: 0.0097\n",
      "Epoch 32/50\n",
      "60000/60000 [==============================] - 7s 117us/step - loss: 0.0929 - acc: 0.8142 - mean_squared_error: 0.0100 - val_loss: 0.0918 - val_acc: 0.8133 - val_mean_squared_error: 0.0097\n",
      "Epoch 33/50\n",
      "60000/60000 [==============================] - 3s 57us/step - loss: 0.0929 - acc: 0.8142 - mean_squared_error: 0.0100 - val_loss: 0.0917 - val_acc: 0.8133 - val_mean_squared_error: 0.0097\n",
      "Epoch 34/50\n",
      "60000/60000 [==============================] - 6s 103us/step - loss: 0.0928 - acc: 0.8142 - mean_squared_error: 0.0100 - val_loss: 0.0917 - val_acc: 0.8134 - val_mean_squared_error: 0.0097\n",
      "Epoch 35/50\n",
      "60000/60000 [==============================] - 4s 72us/step - loss: 0.0928 - acc: 0.8142 - mean_squared_error: 0.0100 - val_loss: 0.0916 - val_acc: 0.8133 - val_mean_squared_error: 0.0097\n",
      "Epoch 36/50\n",
      "60000/60000 [==============================] - 4s 58us/step - loss: 0.0928 - acc: 0.8142 - mean_squared_error: 0.0100 - val_loss: 0.0916 - val_acc: 0.8133 - val_mean_squared_error: 0.0097\n",
      "Epoch 37/50\n",
      "60000/60000 [==============================] - 7s 116us/step - loss: 0.0928 - acc: 0.8142 - mean_squared_error: 0.0100 - val_loss: 0.0916 - val_acc: 0.8133 - val_mean_squared_error: 0.0096\n",
      "Epoch 38/50\n",
      "60000/60000 [==============================] - 4s 62us/step - loss: 0.0928 - acc: 0.8142 - mean_squared_error: 0.0100 - val_loss: 0.0916 - val_acc: 0.8133 - val_mean_squared_error: 0.0096\n",
      "Epoch 39/50\n",
      "60000/60000 [==============================] - 7s 125us/step - loss: 0.0928 - acc: 0.8142 - mean_squared_error: 0.0100 - val_loss: 0.0916 - val_acc: 0.8133 - val_mean_squared_error: 0.0097\n",
      "Epoch 40/50\n",
      "60000/60000 [==============================] - 4s 59us/step - loss: 0.0927 - acc: 0.8142 - mean_squared_error: 0.0099 - val_loss: 0.0917 - val_acc: 0.8134 - val_mean_squared_error: 0.0097\n",
      "Epoch 41/50\n",
      "60000/60000 [==============================] - 6s 99us/step - loss: 0.0927 - acc: 0.8142 - mean_squared_error: 0.0099 - val_loss: 0.0915 - val_acc: 0.8133 - val_mean_squared_error: 0.0096\n"
     ]
    },
    {
     "name": "stdout",
     "output_type": "stream",
     "text": [
      "Epoch 42/50\n",
      "60000/60000 [==============================] - 5s 85us/step - loss: 0.0927 - acc: 0.8142 - mean_squared_error: 0.0099 - val_loss: 0.0915 - val_acc: 0.8133 - val_mean_squared_error: 0.0096\n",
      "Epoch 43/50\n",
      "60000/60000 [==============================] - 3s 58us/step - loss: 0.0927 - acc: 0.8142 - mean_squared_error: 0.0099 - val_loss: 0.0916 - val_acc: 0.8133 - val_mean_squared_error: 0.0097\n",
      "Epoch 44/50\n",
      "60000/60000 [==============================] - 7s 119us/step - loss: 0.0927 - acc: 0.8142 - mean_squared_error: 0.0099 - val_loss: 0.0915 - val_acc: 0.8133 - val_mean_squared_error: 0.0096\n",
      "Epoch 45/50\n",
      "60000/60000 [==============================] - 3s 56us/step - loss: 0.0927 - acc: 0.8142 - mean_squared_error: 0.0099 - val_loss: 0.0916 - val_acc: 0.8133 - val_mean_squared_error: 0.0096\n",
      "Epoch 46/50\n",
      "60000/60000 [==============================] - 7s 115us/step - loss: 0.0926 - acc: 0.8142 - mean_squared_error: 0.0099 - val_loss: 0.0915 - val_acc: 0.8133 - val_mean_squared_error: 0.0096\n",
      "Epoch 47/50\n",
      "60000/60000 [==============================] - 3s 53us/step - loss: 0.0926 - acc: 0.8142 - mean_squared_error: 0.0099 - val_loss: 0.0915 - val_acc: 0.8133 - val_mean_squared_error: 0.0096\n",
      "Epoch 48/50\n",
      "60000/60000 [==============================] - 3s 58us/step - loss: 0.0926 - acc: 0.8142 - mean_squared_error: 0.0099 - val_loss: 0.0915 - val_acc: 0.8133 - val_mean_squared_error: 0.0096\n",
      "Epoch 49/50\n",
      "60000/60000 [==============================] - 7s 118us/step - loss: 0.0926 - acc: 0.8142 - mean_squared_error: 0.0099 - val_loss: 0.0915 - val_acc: 0.8133 - val_mean_squared_error: 0.0096\n",
      "Epoch 50/50\n",
      "60000/60000 [==============================] - 3s 54us/step - loss: 0.0926 - acc: 0.8142 - mean_squared_error: 0.0099 - val_loss: 0.0915 - val_acc: 0.8133 - val_mean_squared_error: 0.0096\n"
     ]
    },
    {
     "data": {
      "text/plain": [
       "<keras.callbacks.History at 0x2855ae3dc50>"
      ]
     },
     "execution_count": 17,
     "metadata": {},
     "output_type": "execute_result"
    }
   ],
   "source": [
    "pca_autoencoder.compile(optimizer='adam', loss='binary_crossentropy',metrics=['accuracy','mse'])\n",
    "pca_autoencoder.fit(x_train, x_train,\n",
    "                epochs=50,\n",
    "                batch_size=256,\n",
    "                shuffle=True,\n",
    "                validation_data=(x_test, x_test))"
   ]
  },
  {
   "cell_type": "code",
   "execution_count": 19,
   "metadata": {},
   "outputs": [
    {
     "name": "stdout",
     "output_type": "stream",
     "text": [
      "[0.09145514508485794, 0.8133008901596069, 0.009597153528034688]\n"
     ]
    }
   ],
   "source": [
    "score = pca_autoencoder.evaluate(x_test, x_test, verbose=2)\n",
    "print(score)\n",
    "\n",
    "# LOSS = 0.09145514508485794\n",
    "# ACCURACY = 0.8133008901596069\n",
    "# MSE = 0.009597153528034688"
   ]
  },
  {
   "cell_type": "markdown",
   "metadata": {},
   "source": [
    "# Stacked Autoencoders"
   ]
  },
  {
   "cell_type": "code",
   "execution_count": 10,
   "metadata": {},
   "outputs": [
    {
     "name": "stdout",
     "output_type": "stream",
     "text": [
      "_________________________________________________________________\n",
      "Layer (type)                 Output Shape              Param #   \n",
      "=================================================================\n",
      "dense_3 (Dense)              (None, 128)               100480    \n",
      "_________________________________________________________________\n",
      "dense_4 (Dense)              (None, 64)                8256      \n",
      "_________________________________________________________________\n",
      "dense_5 (Dense)              (None, 32)                2080      \n",
      "_________________________________________________________________\n",
      "dense_6 (Dense)              (None, 64)                2112      \n",
      "_________________________________________________________________\n",
      "dense_7 (Dense)              (None, 128)               8320      \n",
      "_________________________________________________________________\n",
      "dense_8 (Dense)              (None, 784)               101136    \n",
      "=================================================================\n",
      "Total params: 222,384\n",
      "Trainable params: 222,384\n",
      "Non-trainable params: 0\n",
      "_________________________________________________________________\n"
     ]
    }
   ],
   "source": [
    "autoencoder = Sequential()\n",
    "\n",
    "# Encoder Layers\n",
    "autoencoder.add(Dense(4 * encoding_dim, input_shape=(input_dim,), activation='relu'))\n",
    "autoencoder.add(Dense(2 * encoding_dim, activation='relu'))\n",
    "autoencoder.add(Dense(encoding_dim, activation='relu'))\n",
    "\n",
    "# Decoder Layers\n",
    "autoencoder.add(Dense(2 * encoding_dim, activation='relu'))\n",
    "autoencoder.add(Dense(4 * encoding_dim, activation='relu'))\n",
    "autoencoder.add(Dense(input_dim, activation='sigmoid'))\n",
    "\n",
    "autoencoder.summary()"
   ]
  },
  {
   "cell_type": "code",
   "execution_count": 11,
   "metadata": {},
   "outputs": [
    {
     "name": "stdout",
     "output_type": "stream",
     "text": [
      "_________________________________________________________________\n",
      "Layer (type)                 Output Shape              Param #   \n",
      "=================================================================\n",
      "input_2 (InputLayer)         (None, 784)               0         \n",
      "_________________________________________________________________\n",
      "dense_3 (Dense)              (None, 128)               100480    \n",
      "_________________________________________________________________\n",
      "dense_4 (Dense)              (None, 64)                8256      \n",
      "_________________________________________________________________\n",
      "dense_5 (Dense)              (None, 32)                2080      \n",
      "=================================================================\n",
      "Total params: 110,816\n",
      "Trainable params: 110,816\n",
      "Non-trainable params: 0\n",
      "_________________________________________________________________\n"
     ]
    }
   ],
   "source": [
    "input_img = Input(shape=(input_dim,))\n",
    "encoder_layer1 = autoencoder.layers[0]\n",
    "encoder_layer2 = autoencoder.layers[1]\n",
    "encoder_layer3 = autoencoder.layers[2]\n",
    "encoder = Model(input_img, encoder_layer3(encoder_layer2(encoder_layer1(input_img))))\n",
    "\n",
    "encoder.summary()"
   ]
  },
  {
   "cell_type": "code",
   "execution_count": null,
   "metadata": {},
   "outputs": [],
   "source": [
    "x_train.shape"
   ]
  },
  {
   "cell_type": "code",
   "execution_count": 12,
   "metadata": {
    "scrolled": true
   },
   "outputs": [
    {
     "name": "stdout",
     "output_type": "stream",
     "text": [
      "Train on 60000 samples, validate on 10000 samples\n",
      "Epoch 1/50\n",
      "60000/60000 [==============================] - 6s 101us/step - loss: 0.2506 - acc: 0.7845 - mean_squared_error: 0.0627 - val_loss: 0.1735 - val_acc: 0.7990 - val_mean_squared_error: 0.0374\n",
      "Epoch 2/50\n",
      "60000/60000 [==============================] - 9s 152us/step - loss: 0.1573 - acc: 0.8033 - mean_squared_error: 0.0317 - val_loss: 0.1415 - val_acc: 0.8051 - val_mean_squared_error: 0.0263\n",
      "Epoch 3/50\n",
      "60000/60000 [==============================] - 9s 147us/step - loss: 0.1345 - acc: 0.8079 - mean_squared_error: 0.0239 - val_loss: 0.1271 - val_acc: 0.8085 - val_mean_squared_error: 0.0215\n",
      "Epoch 4/50\n",
      "60000/60000 [==============================] - 6s 94us/step - loss: 0.1246 - acc: 0.8096 - mean_squared_error: 0.0206 - val_loss: 0.1199 - val_acc: 0.8091 - val_mean_squared_error: 0.0191\n",
      "Epoch 5/50\n",
      "60000/60000 [==============================] - 9s 158us/step - loss: 0.1189 - acc: 0.8105 - mean_squared_error: 0.0187 - val_loss: 0.1149 - val_acc: 0.8101 - val_mean_squared_error: 0.0174\n",
      "Epoch 6/50\n",
      "60000/60000 [==============================] - 9s 152us/step - loss: 0.1136 - acc: 0.8113 - mean_squared_error: 0.0169 - val_loss: 0.1099 - val_acc: 0.8106 - val_mean_squared_error: 0.0158\n",
      "Epoch 7/50\n",
      "60000/60000 [==============================] - 5s 91us/step - loss: 0.1092 - acc: 0.8120 - mean_squared_error: 0.0155 - val_loss: 0.1064 - val_acc: 0.8112 - val_mean_squared_error: 0.0146\n",
      "Epoch 8/50\n",
      "60000/60000 [==============================] - 9s 153us/step - loss: 0.1063 - acc: 0.8124 - mean_squared_error: 0.0145 - val_loss: 0.1038 - val_acc: 0.8120 - val_mean_squared_error: 0.0138\n",
      "Epoch 9/50\n",
      "60000/60000 [==============================] - 9s 152us/step - loss: 0.1042 - acc: 0.8127 - mean_squared_error: 0.0138 - val_loss: 0.1019 - val_acc: 0.8118 - val_mean_squared_error: 0.0131\n",
      "Epoch 10/50\n",
      "60000/60000 [==============================] - 6s 97us/step - loss: 0.1022 - acc: 0.8129 - mean_squared_error: 0.0132 - val_loss: 0.1003 - val_acc: 0.8123 - val_mean_squared_error: 0.0126\n",
      "Epoch 11/50\n",
      "60000/60000 [==============================] - 9s 154us/step - loss: 0.1004 - acc: 0.8131 - mean_squared_error: 0.0126 - val_loss: 0.0985 - val_acc: 0.8123 - val_mean_squared_error: 0.0121\n",
      "Epoch 12/50\n",
      "60000/60000 [==============================] - 9s 155us/step - loss: 0.0989 - acc: 0.8133 - mean_squared_error: 0.0121 - val_loss: 0.0975 - val_acc: 0.8126 - val_mean_squared_error: 0.0117\n",
      "Epoch 13/50\n",
      "60000/60000 [==============================] - 6s 95us/step - loss: 0.0976 - acc: 0.8134 - mean_squared_error: 0.0117 - val_loss: 0.0962 - val_acc: 0.8125 - val_mean_squared_error: 0.0113\n",
      "Epoch 14/50\n",
      "60000/60000 [==============================] - 9s 156us/step - loss: 0.0965 - acc: 0.8135 - mean_squared_error: 0.0114 - val_loss: 0.0952 - val_acc: 0.8128 - val_mean_squared_error: 0.0110\n",
      "Epoch 15/50\n",
      "60000/60000 [==============================] - 9s 155us/step - loss: 0.0955 - acc: 0.8136 - mean_squared_error: 0.0110 - val_loss: 0.0943 - val_acc: 0.8128 - val_mean_squared_error: 0.0107\n",
      "Epoch 16/50\n",
      "60000/60000 [==============================] - 6s 94us/step - loss: 0.0945 - acc: 0.8137 - mean_squared_error: 0.0107 - val_loss: 0.0931 - val_acc: 0.8128 - val_mean_squared_error: 0.0103\n",
      "Epoch 17/50\n",
      "60000/60000 [==============================] - 9s 156us/step - loss: 0.0936 - acc: 0.8138 - mean_squared_error: 0.0104 - val_loss: 0.0931 - val_acc: 0.8131 - val_mean_squared_error: 0.0103\n",
      "Epoch 18/50\n",
      "60000/60000 [==============================] - 9s 154us/step - loss: 0.0930 - acc: 0.8139 - mean_squared_error: 0.0102 - val_loss: 0.0918 - val_acc: 0.8129 - val_mean_squared_error: 0.0099\n",
      "Epoch 19/50\n",
      "60000/60000 [==============================] - 6s 95us/step - loss: 0.0924 - acc: 0.8139 - mean_squared_error: 0.0100 - val_loss: 0.0913 - val_acc: 0.8129 - val_mean_squared_error: 0.0097\n",
      "Epoch 20/50\n",
      "60000/60000 [==============================] - 9s 156us/step - loss: 0.0919 - acc: 0.8140 - mean_squared_error: 0.0099 - val_loss: 0.0910 - val_acc: 0.8131 - val_mean_squared_error: 0.0096\n",
      "Epoch 21/50\n",
      "60000/60000 [==============================] - 10s 162us/step - loss: 0.0914 - acc: 0.8140 - mean_squared_error: 0.0097 - val_loss: 0.0903 - val_acc: 0.8131 - val_mean_squared_error: 0.0094\n",
      "Epoch 22/50\n",
      "60000/60000 [==============================] - 8s 133us/step - loss: 0.0909 - acc: 0.8141 - mean_squared_error: 0.0096 - val_loss: 0.0904 - val_acc: 0.8132 - val_mean_squared_error: 0.0095\n",
      "Epoch 23/50\n",
      "60000/60000 [==============================] - 8s 125us/step - loss: 0.0905 - acc: 0.8141 - mean_squared_error: 0.0094 - val_loss: 0.0896 - val_acc: 0.8131 - val_mean_squared_error: 0.0092\n",
      "Epoch 24/50\n",
      "60000/60000 [==============================] - 9s 158us/step - loss: 0.0902 - acc: 0.8141 - mean_squared_error: 0.0093 - val_loss: 0.0894 - val_acc: 0.8131 - val_mean_squared_error: 0.0091\n",
      "Epoch 25/50\n",
      "60000/60000 [==============================] - 10s 161us/step - loss: 0.0898 - acc: 0.8141 - mean_squared_error: 0.0092 - val_loss: 0.0889 - val_acc: 0.8132 - val_mean_squared_error: 0.0090\n",
      "Epoch 26/50\n",
      "60000/60000 [==============================] - 6s 96us/step - loss: 0.0895 - acc: 0.8142 - mean_squared_error: 0.0091 - val_loss: 0.0889 - val_acc: 0.8131 - val_mean_squared_error: 0.0090\n",
      "Epoch 27/50\n",
      "60000/60000 [==============================] - 10s 161us/step - loss: 0.0892 - acc: 0.8142 - mean_squared_error: 0.0090 - val_loss: 0.0883 - val_acc: 0.8133 - val_mean_squared_error: 0.0088\n",
      "Epoch 28/50\n",
      "60000/60000 [==============================] - 9s 157us/step - loss: 0.0889 - acc: 0.8142 - mean_squared_error: 0.0089 - val_loss: 0.0882 - val_acc: 0.8134 - val_mean_squared_error: 0.0088\n",
      "Epoch 29/50\n",
      "60000/60000 [==============================] - 6s 96us/step - loss: 0.0887 - acc: 0.8142 - mean_squared_error: 0.0089 - val_loss: 0.0880 - val_acc: 0.8133 - val_mean_squared_error: 0.0087\n",
      "Epoch 30/50\n",
      "60000/60000 [==============================] - 9s 153us/step - loss: 0.0884 - acc: 0.8143 - mean_squared_error: 0.0088 - val_loss: 0.0879 - val_acc: 0.8134 - val_mean_squared_error: 0.0087\n",
      "Epoch 31/50\n",
      "60000/60000 [==============================] - 9s 158us/step - loss: 0.0881 - acc: 0.8143 - mean_squared_error: 0.0087 - val_loss: 0.0874 - val_acc: 0.8133 - val_mean_squared_error: 0.0085\n",
      "Epoch 32/50\n",
      "60000/60000 [==============================] - 6s 106us/step - loss: 0.0878 - acc: 0.8143 - mean_squared_error: 0.0086 - val_loss: 0.0870 - val_acc: 0.8134 - val_mean_squared_error: 0.0084\n",
      "Epoch 33/50\n",
      "60000/60000 [==============================] - 9s 142us/step - loss: 0.0876 - acc: 0.8143 - mean_squared_error: 0.0085 - val_loss: 0.0870 - val_acc: 0.8133 - val_mean_squared_error: 0.0084\n",
      "Epoch 34/50\n",
      "60000/60000 [==============================] - 9s 156us/step - loss: 0.0874 - acc: 0.8143 - mean_squared_error: 0.0085 - val_loss: 0.0868 - val_acc: 0.8133 - val_mean_squared_error: 0.0083\n",
      "Epoch 35/50\n",
      "60000/60000 [==============================] - 8s 142us/step - loss: 0.0872 - acc: 0.8144 - mean_squared_error: 0.0084 - val_loss: 0.0869 - val_acc: 0.8135 - val_mean_squared_error: 0.0083\n",
      "Epoch 36/50\n",
      "60000/60000 [==============================] - 7s 111us/step - loss: 0.0870 - acc: 0.8144 - mean_squared_error: 0.0083 - val_loss: 0.0865 - val_acc: 0.8135 - val_mean_squared_error: 0.0082\n",
      "Epoch 37/50\n",
      "60000/60000 [==============================] - 10s 165us/step - loss: 0.0868 - acc: 0.8144 - mean_squared_error: 0.0083 - val_loss: 0.0862 - val_acc: 0.8134 - val_mean_squared_error: 0.0082\n",
      "Epoch 38/50\n",
      "60000/60000 [==============================] - 9s 158us/step - loss: 0.0867 - acc: 0.8144 - mean_squared_error: 0.0082 - val_loss: 0.0863 - val_acc: 0.8134 - val_mean_squared_error: 0.0082\n",
      "Epoch 39/50\n",
      "60000/60000 [==============================] - 6s 98us/step - loss: 0.0865 - acc: 0.8144 - mean_squared_error: 0.0082 - val_loss: 0.0860 - val_acc: 0.8134 - val_mean_squared_error: 0.0081\n",
      "Epoch 40/50\n",
      "60000/60000 [==============================] - 9s 158us/step - loss: 0.0863 - acc: 0.8144 - mean_squared_error: 0.0081 - val_loss: 0.0856 - val_acc: 0.8135 - val_mean_squared_error: 0.0080\n",
      "Epoch 41/50\n",
      "60000/60000 [==============================] - 9s 151us/step - loss: 0.0862 - acc: 0.8144 - mean_squared_error: 0.0081 - val_loss: 0.0857 - val_acc: 0.8135 - val_mean_squared_error: 0.0080\n",
      "Epoch 42/50\n",
      "60000/60000 [==============================] - 5s 90us/step - loss: 0.0860 - acc: 0.8145 - mean_squared_error: 0.0080 - val_loss: 0.0855 - val_acc: 0.8135 - val_mean_squared_error: 0.0079\n",
      "Epoch 43/50\n",
      "60000/60000 [==============================] - 9s 149us/step - loss: 0.0859 - acc: 0.8145 - mean_squared_error: 0.0080 - val_loss: 0.0855 - val_acc: 0.8135 - val_mean_squared_error: 0.0079\n",
      "Epoch 44/50\n",
      "60000/60000 [==============================] - 9s 152us/step - loss: 0.0858 - acc: 0.8145 - mean_squared_error: 0.0079 - val_loss: 0.0851 - val_acc: 0.8135 - val_mean_squared_error: 0.0078\n",
      "Epoch 45/50\n",
      "60000/60000 [==============================] - 5s 90us/step - loss: 0.0856 - acc: 0.8145 - mean_squared_error: 0.0079 - val_loss: 0.0850 - val_acc: 0.8135 - val_mean_squared_error: 0.0077\n",
      "Epoch 46/50\n",
      "60000/60000 [==============================] - 9s 152us/step - loss: 0.0855 - acc: 0.8145 - mean_squared_error: 0.0079 - val_loss: 0.0854 - val_acc: 0.8136 - val_mean_squared_error: 0.0079\n",
      "Epoch 47/50\n",
      "60000/60000 [==============================] - 9s 151us/step - loss: 0.0854 - acc: 0.8145 - mean_squared_error: 0.0078 - val_loss: 0.0847 - val_acc: 0.8135 - val_mean_squared_error: 0.0076\n",
      "Epoch 48/50\n",
      "60000/60000 [==============================] - 5s 89us/step - loss: 0.0853 - acc: 0.8145 - mean_squared_error: 0.0078 - val_loss: 0.0849 - val_acc: 0.8135 - val_mean_squared_error: 0.0077\n",
      "Epoch 49/50\n",
      "60000/60000 [==============================] - 9s 153us/step - loss: 0.0852 - acc: 0.8145 - mean_squared_error: 0.0078 - val_loss: 0.0846 - val_acc: 0.8136 - val_mean_squared_error: 0.0076\n",
      "Epoch 50/50\n",
      "60000/60000 [==============================] - 9s 154us/step - loss: 0.0850 - acc: 0.8145 - mean_squared_error: 0.0077 - val_loss: 0.0846 - val_acc: 0.8136 - val_mean_squared_error: 0.0076\n"
     ]
    },
    {
     "data": {
      "text/plain": [
       "<keras.callbacks.History at 0x28557aa1128>"
      ]
     },
     "execution_count": 12,
     "metadata": {},
     "output_type": "execute_result"
    }
   ],
   "source": [
    "autoencoder.compile(optimizer='adam', loss='binary_crossentropy',metrics=['accuracy','mse'])\n",
    "autoencoder.fit(x_train, x_train,\n",
    "                epochs=50,\n",
    "                batch_size=256,\n",
    "                validation_data=(x_test, x_test))\n"
   ]
  },
  {
   "cell_type": "code",
   "execution_count": 20,
   "metadata": {},
   "outputs": [
    {
     "name": "stdout",
     "output_type": "stream",
     "text": [
      "[0.08460709371566773, 0.8135593090057373, 0.007630459167808294]\n"
     ]
    }
   ],
   "source": [
    "score = autoencoder.evaluate(x_test, x_test, verbose=2)\n",
    "print(score)\n",
    "\n",
    "# LOSS = 0.08460709371566773 unlike 0.09145514508485794 in single AE\n",
    "# ACCURACY = 0.8135593090057373 unlike 0.8133008901596069 in single AE\n",
    "# MSE = 0.007630459167808294 unlike 0.009597153528034688 in single AE"
   ]
  },
  {
   "cell_type": "markdown",
   "metadata": {},
   "source": [
    "# Visualization for Single layer AE"
   ]
  },
  {
   "cell_type": "code",
   "execution_count": 23,
   "metadata": {},
   "outputs": [
    {
     "data": {
      "image/png": "[encoded data removed]",
      "text/plain": [
       "<Figure size 1296x288 with 30 Axes>"
      ]
     },
     "metadata": {
      "needs_background": "light"
     },
     "output_type": "display_data"
    }
   ],
   "source": [
    "num_images = 10\n",
    "np.random.seed(42)\n",
    "random_test_images = np.random.randint(x_test.shape[0], size=num_images)\n",
    "\n",
    "pca_encoded_imgs = pca_encoder.predict(x_test)\n",
    "pca_decoded_imgs = pca_autoencoder.predict(x_test)\n",
    "\n",
    "plt.figure(figsize=(18, 4))\n",
    "\n",
    "for i, image_idx in enumerate(random_test_images):\n",
    "    # plot original image\n",
    "    ax = plt.subplot(3, num_images, i + 1)\n",
    "    plt.imshow(x_test[image_idx].reshape(28, 28))\n",
    "    plt.gray()\n",
    "    ax.get_xaxis().set_visible(False)\n",
    "    ax.get_yaxis().set_visible(False)\n",
    "    \n",
    "    # plot encoded image\n",
    "    ax = plt.subplot(3, num_images, num_images + i + 1)\n",
    "    plt.imshow(pca_encoded_imgs[image_idx].reshape(8, 4))\n",
    "    plt.gray()\n",
    "    ax.get_xaxis().set_visible(False)\n",
    "    ax.get_yaxis().set_visible(False)\n",
    "\n",
    "    # plot reconstructed image\n",
    "    ax = plt.subplot(3, num_images, 2*num_images + i + 1)\n",
    "    plt.imshow(pca_decoded_imgs[image_idx].reshape(28, 28))\n",
    "    plt.gray()\n",
    "    ax.get_xaxis().set_visible(False)\n",
    "    ax.get_yaxis().set_visible(False)\n",
    "plt.show()"
   ]
  },
  {
   "cell_type": "markdown",
   "metadata": {},
   "source": [
    "# Visualization for Stacked Autoencoders"
   ]
  },
  {
   "cell_type": "code",
   "execution_count": 21,
   "metadata": {},
   "outputs": [
    {
     "data": {
      "image/png": "[encoded data removed]",
      "text/plain": [
       "<Figure size 1296x288 with 30 Axes>"
      ]
     },
     "metadata": {
      "needs_background": "light"
     },
     "output_type": "display_data"
    }
   ],
   "source": [
    "num_images = 10\n",
    "np.random.seed(42)\n",
    "random_test_images = np.random.randint(x_test.shape[0], size=num_images)\n",
    "\n",
    "encoded_imgs = encoder.predict(x_test)\n",
    "decoded_imgs = autoencoder.predict(x_test)\n",
    "\n",
    "plt.figure(figsize=(18, 4))\n",
    "\n",
    "for i, image_idx in enumerate(random_test_images):\n",
    "    # plot original image\n",
    "    ax = plt.subplot(3, num_images, i + 1)\n",
    "    plt.imshow(x_test[image_idx].reshape(28, 28))\n",
    "    plt.gray()\n",
    "    ax.get_xaxis().set_visible(False)\n",
    "    ax.get_yaxis().set_visible(False)\n",
    "    \n",
    "    # plot encoded image\n",
    "    ax = plt.subplot(3, num_images, num_images + i + 1)\n",
    "    plt.imshow(encoded_imgs[image_idx].reshape(8, 4))\n",
    "    plt.gray()\n",
    "    ax.get_xaxis().set_visible(False)\n",
    "    ax.get_yaxis().set_visible(False)\n",
    "\n",
    "    # plot reconstructed image\n",
    "    ax = plt.subplot(3, num_images, 2*num_images + i + 1)\n",
    "    plt.imshow(decoded_imgs[image_idx].reshape(28, 28))\n",
    "    plt.gray()\n",
    "    ax.get_xaxis().set_visible(False)\n",
    "    ax.get_yaxis().set_visible(False)\n",
    "plt.show()"
   ]
  },
  {
   "cell_type": "code",
   "execution_count": null,
   "metadata": {},
   "outputs": [],
   "source": []
  },
  {
   "cell_type": "code",
   "execution_count": null,
   "metadata": {},
   "outputs": [],
   "source": []
  }
 ],
 "metadata": {
  "kernelspec": {
   "display_name": "Python 3",
   "language": "python",
   "name": "python3"
  },
  "language_info": {
   "codemirror_mode": {
    "name": "ipython",
    "version": 3
   },
   "file_extension": ".py",
   "mimetype": "text/x-python",
   "name": "python",
   "nbconvert_exporter": "python",
   "pygments_lexer": "ipython3",
   "version": "3.6.9"
  }
 },
 "nbformat": 4,
 "nbformat_minor": 2
}
