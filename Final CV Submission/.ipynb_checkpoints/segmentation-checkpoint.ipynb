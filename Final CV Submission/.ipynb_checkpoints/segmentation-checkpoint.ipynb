{
 "cells": [
  {
   "cell_type": "markdown",
   "metadata": {
    "colab_type": "text",
    "id": "vTFrtepuK6-v"
   },
   "source": [
    "## Importing Packages"
   ]
  },
  {
   "cell_type": "code",
   "execution_count": 0,
   "metadata": {
    "colab": {},
    "colab_type": "code",
    "id": "6JeClDYEKyVV"
   },
   "outputs": [],
   "source": [
    "from lxml import etree\n",
    "import numpy as np\n",
    "import os\n",
    "from skimage import io\n",
    "from skimage.transform import resize\n",
    "import pandas as pd"
   ]
  },
  {
   "cell_type": "code",
   "execution_count": 0,
   "metadata": {
    "colab": {},
    "colab_type": "code",
    "id": "RTWU1BomKyVY"
   },
   "outputs": [],
   "source": [
    "# filter = ['Person'] #[cat,bycycle]\n",
    "# filter = ['dog', 'bird']\n",
    "\n",
    "# please replace with the location on your laptop where you unpacked the tarball\n",
    "voc_root_folder = \"C:/Users/Sumi/Desktop/NOTES SEM2/Computer Vision/CV Project/VOCdevkit/\"\n",
    "image_size = 192"
   ]
  },
  {
   "cell_type": "markdown",
   "metadata": {
    "colab_type": "text",
    "id": "JfI58OJFKyVb"
   },
   "source": [
    "### Loading Train and Validation files"
   ]
  },
  {
   "cell_type": "code",
   "execution_count": 0,
   "metadata": {
    "colab": {},
    "colab_type": "code",
    "id": "-RBpmu8MKyVb",
    "outputId": "0f13d215-626f-4ba8-ccc2-471c2c695e74"
   },
   "outputs": [
    {
     "name": "stdout",
     "output_type": "stream",
     "text": [
      "749 750\n"
     ]
    }
   ],
   "source": [
    "# get train and validation files \n",
    "train_filepath = os.path.join(voc_root_folder, \"VOC2009/ImageSets/Segmentation/train.txt\") \n",
    "val_filepath = os.path.join(voc_root_folder, \"VOC2009/ImageSets/Segmentation/val.txt\")\n",
    "\n",
    "train_files = []\n",
    "val_files =[]\n",
    "\n",
    "with open(train_filepath,'r') as f:\n",
    "    train_files = [l[0:-1] for l in f.readlines()]\n",
    "\n",
    "with open(val_filepath,'r') as f:\n",
    "    val_files = [l[0:-1] for l in f.readlines()] \n",
    "    \n",
    "print(len(train_files),len(val_files))"
   ]
  },
  {
   "cell_type": "markdown",
   "metadata": {
    "colab_type": "text",
    "id": "S8y4fGCUKyVe"
   },
   "source": [
    "### Crops images of specific size for 2 reasons\n",
    "1. reducing size of images\n",
    "2. more images available for training"
   ]
  },
  {
   "cell_type": "code",
   "execution_count": 0,
   "metadata": {
    "colab": {},
    "colab_type": "code",
    "id": "bExHLCVyKyVf"
   },
   "outputs": [],
   "source": [
    "def random_crop(image, target,crop_size):\n",
    "    height, width = image.shape[:2]\n",
    "    dy, dx = crop_size\n",
    "    if width < dx or height < dy:\n",
    "        return None,None\n",
    "    x = np.random.randint(0, width - dx + 1)\n",
    "    y = np.random.randint(0, height - dy + 1)\n",
    "    return image[y:(y+dy), x:(x+dx),:], target[y:(y+dy), x:(x+dx),:]"
   ]
  },
  {
   "cell_type": "markdown",
   "metadata": {
    "colab_type": "text",
    "id": "zHMwCrVUKyVh"
   },
   "source": [
    "### Building similar size dataset for input and target images"
   ]
  },
  {
   "cell_type": "code",
   "execution_count": 0,
   "metadata": {
    "colab": {},
    "colab_type": "code",
    "id": "Y04vV1OrKyVi"
   },
   "outputs": [],
   "source": [
    "def build_segmentation_dataset(list_of_files):\n",
    "    y =[]\n",
    "    x=[]\n",
    "    image_folder = os.path.join(voc_root_folder, \"VOC2009/JPEGImages/\")\n",
    "    targetClass_folder = os.path.join(voc_root_folder, \"VOC2009/SegmentationClass/\") \n",
    "    image_filepaths = [os.path.join(image_folder, file) for file in os.listdir(image_folder) if file[:-4] in list_of_files]\n",
    "    targetClass_filepaths = [os.path.join(targetClass_folder, c_f) for c_f in os.listdir(targetClass_folder) if c_f[:-4] in list_of_files]\n",
    "    images = np.array([io.imread(img_f) for img_f in image_filepaths])\n",
    "    target = np.array([io.imread(img_f) for img_f in targetClass_filepaths])\n",
    "    for img_f,target_f in zip(images,target):\n",
    "        for i in range(2): \n",
    "            x1, y1 = random_crop(img_f, target_f,(image_size,image_size))\n",
    "            if (y1 is not None):\n",
    "                if (y1.shape == (image_size,image_size,4)):\n",
    "                    if (np.mean(np.sum(y1,axis = 2)) != 255.0):\n",
    "                        x.append(x1)\n",
    "                        y.append(y1)\n",
    "                    \n",
    "    x = np.array([img_f for img_f in x]).astype('float32')\n",
    "    y = np.array([(np.sum(img_f ,axis=2) != np.max(img_f)).astype(int) + (np.sum(img_f ,axis=2) != 895).astype(int) for img_f in y]).astype(\"float32\")\n",
    "  \n",
    "    return x, y"
   ]
  },
  {
   "cell_type": "markdown",
   "metadata": {
    "colab_type": "text",
    "id": "bjny_lKbKyVk"
   },
   "source": [
    "### Loading Images and targets of segmentation"
   ]
  },
  {
   "cell_type": "code",
   "execution_count": 0,
   "metadata": {
    "colab": {},
    "colab_type": "code",
    "id": "DZm8-m3ZKyVl"
   },
   "outputs": [],
   "source": [
    "x = [] # Input images\n",
    "y = [] # Target images\n",
    "\n",
    "image_folder = os.path.join(voc_root_folder, \"VOC2009/JPEGImages/\")\n",
    "targetClass_folder = os.path.join(voc_root_folder, \"VOC2009/SegmentationClass/\") \n",
    "\n",
    "image_filepaths = [os.path.join(image_folder, file) for file in os.listdir(image_folder) if file[:-4] in train_files]\n",
    "targetClass_filepaths = [os.path.join(targetClass_folder, classfile) for classfile in os.listdir(targetClass_folder) if classfile[:-4] in train_files]\n",
    "images = np.array([io.imread(img_f) for img_f in image_filepaths])\n",
    "target = np.array([io.imread(img_f) for img_f in targetClass_filepaths])\n"
   ]
  },
  {
   "cell_type": "markdown",
   "metadata": {
    "colab_type": "text",
    "id": "0-TiKlOKKyVn"
   },
   "source": [
    "Cropping the images and targets to specific size (192)"
   ]
  },
  {
   "cell_type": "code",
   "execution_count": 0,
   "metadata": {
    "colab": {},
    "colab_type": "code",
    "id": "BFLKFbv5KyVo"
   },
   "outputs": [],
   "source": [
    "#img_f 3 channels, target_f 4 layers\n",
    "for img_f,target_f in zip(images,target): \n",
    "    for i in range(2): \n",
    "        x1, y1 = random_crop(img_f, target_f,(image_size,image_size))\n",
    "        if (y1 is not None):\n",
    "            if ((y1.shape[0] == image_size) & (y1.shape[1] == image_size) & (y1.shape[2] == 4)):\n",
    "                # To check each layer has one channel as black and rest all white\n",
    "                if (np.mean(np.sum(y1,axis = 2)) != 255.0):\n",
    "                    x.append(x1)\n",
    "                    y.append(y1)"
   ]
  },
  {
   "cell_type": "code",
   "execution_count": 0,
   "metadata": {
    "colab": {},
    "colab_type": "code",
    "id": "0TKeegkuKyVq",
    "outputId": "230a3ea9-6b59-4253-df12-98a0ef971fcc"
   },
   "outputs": [
    {
     "data": {
      "text/plain": [
       "(192, 192, 3)"
      ]
     },
     "execution_count": 10,
     "metadata": {
      "tags": []
     },
     "output_type": "execute_result"
    }
   ],
   "source": [
    "# x contains cropped input images for segmentation\n",
    "x[0].shape"
   ]
  },
  {
   "cell_type": "code",
   "execution_count": 0,
   "metadata": {
    "colab": {},
    "colab_type": "code",
    "id": "dZ0K5jEsKyVw",
    "outputId": "adf6c8f4-00a6-47d3-b279-5a949b59618c"
   },
   "outputs": [
    {
     "data": {
      "text/plain": [
       "(192, 192, 4)"
      ]
     },
     "execution_count": 11,
     "metadata": {
      "tags": []
     },
     "output_type": "execute_result"
    }
   ],
   "source": [
    "# y contains cropped target images for segmentation ( with black and white layers)\n",
    "y[0].shape"
   ]
  },
  {
   "cell_type": "code",
   "execution_count": 0,
   "metadata": {
    "colab": {},
    "colab_type": "code",
    "id": "tUTonmAJKyVy",
    "outputId": "c1d62867-cfb9-48b3-c490-5409d073ad2e"
   },
   "outputs": [
    {
     "data": {
      "text/plain": [
       "(375, 500, 3)"
      ]
     },
     "execution_count": 12,
     "metadata": {
      "tags": []
     },
     "output_type": "execute_result"
    }
   ],
   "source": [
    "img_f.shape"
   ]
  },
  {
   "cell_type": "markdown",
   "metadata": {
    "colab_type": "text",
    "id": "zWJyL5adKyV0"
   },
   "source": [
    "### Getting training and validation data for segmentation"
   ]
  },
  {
   "cell_type": "code",
   "execution_count": 0,
   "metadata": {
    "colab": {},
    "colab_type": "code",
    "id": "GFzaeZiqKyV1",
    "outputId": "1cf969e1-a91c-4768-c11c-91ce470b415c"
   },
   "outputs": [
    {
     "data": {
      "text/plain": [
       "'2007_000333'"
      ]
     },
     "execution_count": 13,
     "metadata": {
      "tags": []
     },
     "output_type": "execute_result"
    }
   ],
   "source": [
    "train_files[10]"
   ]
  },
  {
   "cell_type": "code",
   "execution_count": 0,
   "metadata": {
    "colab": {},
    "colab_type": "code",
    "id": "lbiol30lKyV4"
   },
   "outputs": [],
   "source": [
    "x_train, y_train = build_segmentation_dataset(train_files)\n",
    "x_val, y_val = build_segmentation_dataset(val_files)"
   ]
  },
  {
   "cell_type": "code",
   "execution_count": 0,
   "metadata": {
    "colab": {},
    "colab_type": "code",
    "id": "_eiKXzGXKyV6",
    "outputId": "de4e6d1f-427b-49b7-b396-33a2f8971990"
   },
   "outputs": [
    {
     "data": {
      "text/plain": [
       "((1385, 192, 192, 3), (1385, 192, 192), (1429, 192, 192, 3), (1429, 192, 192))"
      ]
     },
     "execution_count": 15,
     "metadata": {
      "tags": []
     },
     "output_type": "execute_result"
    }
   ],
   "source": [
    "x_train.shape,y_train.shape,x_val.shape,y_val.shape"
   ]
  },
  {
   "cell_type": "code",
   "execution_count": 0,
   "metadata": {
    "colab": {},
    "colab_type": "code",
    "id": "jUrDcAwKKyV8",
    "outputId": "1739f45a-dca1-4e6a-c33e-3a350b726876"
   },
   "outputs": [
    {
     "name": "stdout",
     "output_type": "stream",
     "text": [
      "(1385, 192, 192, 3) (1385, 192, 192)\n",
      "(1429, 192, 192, 3) (1429, 192, 192)\n"
     ]
    }
   ],
   "source": [
    "# normalization\n",
    "x_train = x_train / np.max(x_train)\n",
    "x_val = x_val / np.max(x_val)\n",
    "y_train = y_train -1 \n",
    "y_val = y_val -1\n",
    "print(x_train.shape,y_train.shape)\n",
    "print(x_val.shape,y_val.shape)"
   ]
  },
  {
   "cell_type": "code",
   "execution_count": 0,
   "metadata": {
    "colab": {},
    "colab_type": "code",
    "id": "istRUsckKyV-",
    "outputId": "9506146c-94d2-4b50-befd-adc6e9449ab6"
   },
   "outputs": [
    {
     "name": "stdout",
     "output_type": "stream",
     "text": [
      "(1985, 192, 192, 3) (1985, 192, 192)\n",
      "(829, 192, 192, 3) (829, 192, 192)\n"
     ]
    }
   ],
   "source": [
    "# to increase training data, using some data from validation\n",
    "x_train = np.vstack([x_train,x_val[0:600]])\n",
    "y_train = np.vstack([y_train,y_val[0:600]])\n",
    "x_val = x_val[600:]\n",
    "y_val = y_val[600:]\n",
    "print(x_train.shape,y_train.shape)\n",
    "print(x_val.shape,y_val.shape)"
   ]
  },
  {
   "cell_type": "code",
   "execution_count": 0,
   "metadata": {
    "colab": {},
    "colab_type": "code",
    "id": "_TGBzCTfKyWA",
    "outputId": "91affdcf-aea6-40eb-f5c4-4371e699fa44"
   },
   "outputs": [
    {
     "name": "stdout",
     "output_type": "stream",
     "text": [
      "(1985, 192, 192, 3) (1985, 192, 192)\n",
      "(829, 192, 192, 3) (829, 192, 192)\n"
     ]
    }
   ],
   "source": [
    "print(x_train.shape,y_train.shape)\n",
    "print(x_val.shape,y_val.shape)"
   ]
  },
  {
   "cell_type": "markdown",
   "metadata": {
    "colab_type": "text",
    "id": "xADTC6YgKyWC"
   },
   "source": [
    "## Saving training and validation data to pickle files to run in colab"
   ]
  },
  {
   "cell_type": "code",
   "execution_count": 0,
   "metadata": {
    "colab": {},
    "colab_type": "code",
    "id": "8CEJoyvuKyWC"
   },
   "outputs": [],
   "source": [
    "X_TrainCopy = x_train.copy()\n",
    "\n",
    "train_images = []\n",
    "for i in range(len(X_TrainCopy)):\n",
    "    train_images.append(X_TrainCopy[i])\n",
    "\n",
    "train_classes = []\n",
    "for i in range(len(y_train)):\n",
    "    train_classes.append(y_train[i])\n"
   ]
  },
  {
   "cell_type": "code",
   "execution_count": 0,
   "metadata": {
    "colab": {},
    "colab_type": "code",
    "id": "OR9-btGTKyWE",
    "outputId": "28076b8b-6131-47b2-9a01-aafabd7d43a0"
   },
   "outputs": [
    {
     "name": "stdout",
     "output_type": "stream",
     "text": [
      "Saved the training images into pickle file\n",
      "(1985, 2)\n"
     ]
    },
    {
     "data": {
      "text/html": [
       "<div>\n",
       "<style scoped>\n",
       "    .dataframe tbody tr th:only-of-type {\n",
       "        vertical-align: middle;\n",
       "    }\n",
       "\n",
       "    .dataframe tbody tr th {\n",
       "        vertical-align: top;\n",
       "    }\n",
       "\n",
       "    .dataframe thead th {\n",
       "        text-align: right;\n",
       "    }\n",
       "</style>\n",
       "<table border=\"1\" class=\"dataframe\">\n",
       "  <thead>\n",
       "    <tr style=\"text-align: right;\">\n",
       "      <th></th>\n",
       "      <th>Image_Array</th>\n",
       "      <th>Target_Array</th>\n",
       "    </tr>\n",
       "  </thead>\n",
       "  <tbody>\n",
       "    <tr>\n",
       "      <td>0</td>\n",
       "      <td>[[[0.8156863, 0.9882353, 1.0], [0.8156863, 0.9...</td>\n",
       "      <td>[[0.0, 0.0, 0.0, 0.0, 0.0, 0.0, 0.0, 0.0, 0.0,...</td>\n",
       "    </tr>\n",
       "    <tr>\n",
       "      <td>1</td>\n",
       "      <td>[[[0.84705883, 0.9647059, 0.91764706], [0.8470...</td>\n",
       "      <td>[[0.0, 0.0, 0.0, 0.0, 0.0, 0.0, 0.0, 0.0, 0.0,...</td>\n",
       "    </tr>\n",
       "    <tr>\n",
       "      <td>2</td>\n",
       "      <td>[[[0.62352943, 0.627451, 0.5647059], [0.635294...</td>\n",
       "      <td>[[0.0, 0.0, 0.0, 0.0, 0.0, 0.0, 0.0, 0.0, 0.0,...</td>\n",
       "    </tr>\n",
       "    <tr>\n",
       "      <td>3</td>\n",
       "      <td>[[[0.7529412, 0.77254903, 0.7490196], [0.74509...</td>\n",
       "      <td>[[1.0, 1.0, 1.0, 1.0, 1.0, 1.0, 1.0, 1.0, 1.0,...</td>\n",
       "    </tr>\n",
       "    <tr>\n",
       "      <td>4</td>\n",
       "      <td>[[[0.2, 0.29411766, 0.20784314], [0.13725491, ...</td>\n",
       "      <td>[[0.0, 0.0, 0.0, 0.0, 0.0, 0.0, 0.0, 0.0, 0.0,...</td>\n",
       "    </tr>\n",
       "  </tbody>\n",
       "</table>\n",
       "</div>"
      ],
      "text/plain": [
       "                                         Image_Array  \\\n",
       "0  [[[0.8156863, 0.9882353, 1.0], [0.8156863, 0.9...   \n",
       "1  [[[0.84705883, 0.9647059, 0.91764706], [0.8470...   \n",
       "2  [[[0.62352943, 0.627451, 0.5647059], [0.635294...   \n",
       "3  [[[0.7529412, 0.77254903, 0.7490196], [0.74509...   \n",
       "4  [[[0.2, 0.29411766, 0.20784314], [0.13725491, ...   \n",
       "\n",
       "                                        Target_Array  \n",
       "0  [[0.0, 0.0, 0.0, 0.0, 0.0, 0.0, 0.0, 0.0, 0.0,...  \n",
       "1  [[0.0, 0.0, 0.0, 0.0, 0.0, 0.0, 0.0, 0.0, 0.0,...  \n",
       "2  [[0.0, 0.0, 0.0, 0.0, 0.0, 0.0, 0.0, 0.0, 0.0,...  \n",
       "3  [[1.0, 1.0, 1.0, 1.0, 1.0, 1.0, 1.0, 1.0, 1.0,...  \n",
       "4  [[0.0, 0.0, 0.0, 0.0, 0.0, 0.0, 0.0, 0.0, 0.0,...  "
      ]
     },
     "execution_count": 29,
     "metadata": {
      "tags": []
     },
     "output_type": "execute_result"
    }
   ],
   "source": [
    "X_Train_df = pd.DataFrame()\n",
    "X_Train_df['Image_Array'] = train_images\n",
    "X_Train_df['Target_Array'] = train_classes\n",
    "\n",
    "# # Reshuffle the images & it's respective class labels\n",
    "# X_Train_df = X_Train_df.sample(frac=1).reset_index(drop=True)  \n",
    "\n",
    "X_Train_df.to_pickle('X_Train_'+str(image_size)+'.pkl') #Save the file as pickle\n",
    "print('Saved the training images into pickle file')\n",
    "print(X_Train_df.shape)\n",
    "X_Train_df.head()"
   ]
  },
  {
   "cell_type": "code",
   "execution_count": 0,
   "metadata": {
    "colab": {},
    "colab_type": "code",
    "id": "EDsZIAevKyWH"
   },
   "outputs": [],
   "source": [
    "X_ValCopy = x_val.copy()\n",
    "val_images = []\n",
    "for i in range(len(X_ValCopy)):\n",
    "    val_images.append(X_ValCopy[i])\n",
    "val_classes = []\n",
    "for i in range(len(y_val)):\n",
    "    val_classes.append(y_val[i])"
   ]
  },
  {
   "cell_type": "code",
   "execution_count": 0,
   "metadata": {
    "colab": {},
    "colab_type": "code",
    "id": "AP5jWiGKKyWN",
    "outputId": "e8037b02-a87f-4d22-aaa8-1e58f408b564"
   },
   "outputs": [
    {
     "name": "stdout",
     "output_type": "stream",
     "text": [
      "Saved the validation and test images into pickle\n",
      "(829, 2)\n"
     ]
    },
    {
     "data": {
      "text/html": [
       "<div>\n",
       "<style scoped>\n",
       "    .dataframe tbody tr th:only-of-type {\n",
       "        vertical-align: middle;\n",
       "    }\n",
       "\n",
       "    .dataframe tbody tr th {\n",
       "        vertical-align: top;\n",
       "    }\n",
       "\n",
       "    .dataframe thead th {\n",
       "        text-align: right;\n",
       "    }\n",
       "</style>\n",
       "<table border=\"1\" class=\"dataframe\">\n",
       "  <thead>\n",
       "    <tr style=\"text-align: right;\">\n",
       "      <th></th>\n",
       "      <th>Image_Array</th>\n",
       "      <th>Target_Array</th>\n",
       "    </tr>\n",
       "  </thead>\n",
       "  <tbody>\n",
       "    <tr>\n",
       "      <td>0</td>\n",
       "      <td>[[[0.3529412, 0.5411765, 0.6901961], [0.356862...</td>\n",
       "      <td>[[0.0, 0.0, 0.0, 0.0, 0.0, 0.0, 0.0, 0.0, 0.0,...</td>\n",
       "    </tr>\n",
       "    <tr>\n",
       "      <td>1</td>\n",
       "      <td>[[[0.34509805, 0.5411765, 0.6862745], [0.34509...</td>\n",
       "      <td>[[0.0, 0.0, 0.0, 0.0, 0.0, 0.0, 0.0, 0.0, 0.0,...</td>\n",
       "    </tr>\n",
       "    <tr>\n",
       "      <td>2</td>\n",
       "      <td>[[[0.5019608, 0.5764706, 0.5686275], [0.478431...</td>\n",
       "      <td>[[0.0, 0.0, 0.0, 0.0, 0.0, 0.0, 0.0, 0.0, 0.0,...</td>\n",
       "    </tr>\n",
       "    <tr>\n",
       "      <td>3</td>\n",
       "      <td>[[[0.6901961, 0.6, 0.43529412], [0.69411767, 0...</td>\n",
       "      <td>[[0.0, 0.0, 0.0, 0.0, 0.0, 0.0, 0.0, 0.0, 0.0,...</td>\n",
       "    </tr>\n",
       "    <tr>\n",
       "      <td>4</td>\n",
       "      <td>[[[0.28235295, 0.30980393, 0.1882353], [0.2156...</td>\n",
       "      <td>[[0.0, 0.0, 0.0, 0.0, 0.0, 0.0, 0.0, 0.0, 0.0,...</td>\n",
       "    </tr>\n",
       "  </tbody>\n",
       "</table>\n",
       "</div>"
      ],
      "text/plain": [
       "                                         Image_Array  \\\n",
       "0  [[[0.3529412, 0.5411765, 0.6901961], [0.356862...   \n",
       "1  [[[0.34509805, 0.5411765, 0.6862745], [0.34509...   \n",
       "2  [[[0.5019608, 0.5764706, 0.5686275], [0.478431...   \n",
       "3  [[[0.6901961, 0.6, 0.43529412], [0.69411767, 0...   \n",
       "4  [[[0.28235295, 0.30980393, 0.1882353], [0.2156...   \n",
       "\n",
       "                                        Target_Array  \n",
       "0  [[0.0, 0.0, 0.0, 0.0, 0.0, 0.0, 0.0, 0.0, 0.0,...  \n",
       "1  [[0.0, 0.0, 0.0, 0.0, 0.0, 0.0, 0.0, 0.0, 0.0,...  \n",
       "2  [[0.0, 0.0, 0.0, 0.0, 0.0, 0.0, 0.0, 0.0, 0.0,...  \n",
       "3  [[0.0, 0.0, 0.0, 0.0, 0.0, 0.0, 0.0, 0.0, 0.0,...  \n",
       "4  [[0.0, 0.0, 0.0, 0.0, 0.0, 0.0, 0.0, 0.0, 0.0,...  "
      ]
     },
     "execution_count": 32,
     "metadata": {
      "tags": []
     },
     "output_type": "execute_result"
    }
   ],
   "source": [
    "X_Val_df = pd.DataFrame()\n",
    "X_Val_df['Image_Array'] = val_images\n",
    "X_Val_df['Target_Array'] = val_classes\n",
    "\n",
    "X_Val_df.to_pickle('X_Val_'+str(image_size)+'.pkl') #Save the file as pickle\n",
    "print('Saved the validation and test images into pickle')\n",
    "print(X_Val_df.shape)\n",
    "X_Val_df.head()"
   ]
  },
  {
   "cell_type": "markdown",
   "metadata": {
    "colab_type": "text",
    "id": "AstL9-kAKyWR"
   },
   "source": [
    "## Running in COLAB"
   ]
  },
  {
   "cell_type": "code",
   "execution_count": 2,
   "metadata": {
    "colab": {
     "base_uri": "https://localhost:8080/",
     "height": 122
    },
    "colab_type": "code",
    "executionInfo": {
     "elapsed": 38679,
     "status": "ok",
     "timestamp": 1567364869316,
     "user": {
      "displayName": "Swarnalata patra",
      "photoUrl": "https://lh3.googleusercontent.com/a-/AAuE7mDHwvq5ieIsBjvZ7af_tHAEz7Fbv0U4hvjWIkrWEQ=s64",
      "userId": "04308854459757051514"
     },
     "user_tz": -120
    },
    "id": "X-EWOiiaLPUC",
    "outputId": "567fe89c-8808-47b1-9755-93760d31b4b8"
   },
   "outputs": [
    {
     "name": "stdout",
     "output_type": "stream",
     "text": [
      "Go to this URL in a browser: https://accounts.google.com/o/oauth2/auth?client_id=947318989803-6bn6qk8qdgf4n4g3pfee6491hc0brc4i.apps.googleusercontent.com&redirect_uri=urn%3Aietf%3Awg%3Aoauth%3A2.0%3Aoob&scope=email%20https%3A%2F%2Fwww.googleapis.com%2Fauth%2Fdocs.test%20https%3A%2F%2Fwww.googleapis.com%2Fauth%2Fdrive%20https%3A%2F%2Fwww.googleapis.com%2Fauth%2Fdrive.photos.readonly%20https%3A%2F%2Fwww.googleapis.com%2Fauth%2Fpeopleapi.readonly&response_type=code\n",
      "\n",
      "Enter your authorization code:\n",
      "··········\n",
      "Mounted at /content/drive\n"
     ]
    }
   ],
   "source": [
    "from google.colab import drive\n",
    "drive.mount('/content/drive')"
   ]
  },
  {
   "cell_type": "code",
   "execution_count": 2,
   "metadata": {
    "colab": {
     "base_uri": "https://localhost:8080/",
     "height": 34
    },
    "colab_type": "code",
    "executionInfo": {
     "elapsed": 678,
     "status": "ok",
     "timestamp": 1567365293850,
     "user": {
      "displayName": "Swarnalata patra",
      "photoUrl": "https://lh3.googleusercontent.com/a-/AAuE7mDHwvq5ieIsBjvZ7af_tHAEz7Fbv0U4hvjWIkrWEQ=s64",
      "userId": "04308854459757051514"
     },
     "user_tz": -120
    },
    "id": "o0D4BkZwLV_M",
    "outputId": "3fe6eea6-3daa-43b1-f7ca-70a66ca5600c"
   },
   "outputs": [
    {
     "name": "stdout",
     "output_type": "stream",
     "text": [
      "/content/drive/My Drive/Colab Notebooks/Computer Vision\n"
     ]
    }
   ],
   "source": [
    "%cd drive/My\\ Drive/Colab\\ Notebooks/Computer\\ Vision/\n",
    "# pwd"
   ]
  },
  {
   "cell_type": "markdown",
   "metadata": {
    "colab_type": "text",
    "id": "Kref1TmmLB2T"
   },
   "source": [
    "### Loading Pickle files"
   ]
  },
  {
   "cell_type": "code",
   "execution_count": 0,
   "metadata": {
    "colab": {},
    "colab_type": "code",
    "id": "5bChEIrZKyWS"
   },
   "outputs": [],
   "source": [
    "image_size = 192\n",
    "\n",
    "train_df = pd.read_pickle('X_Train_192.pkl')\n",
    "x_train = np.array(train_df['Image_Array'].values.tolist())\n",
    "y_train = np.array(train_df['Target_Array'].values.tolist())\n",
    "\n",
    "val_df = pd.read_pickle('X_Val_192.pkl')\n",
    "x_val = np.array(val_df['Image_Array'].values.tolist())\n",
    "y_val = np.array(val_df['Target_Array'].values.tolist())\n"
   ]
  },
  {
   "cell_type": "code",
   "execution_count": 4,
   "metadata": {
    "colab": {
     "base_uri": "https://localhost:8080/",
     "height": 51
    },
    "colab_type": "code",
    "executionInfo": {
     "elapsed": 445,
     "status": "ok",
     "timestamp": 1567365303183,
     "user": {
      "displayName": "Swarnalata patra",
      "photoUrl": "https://lh3.googleusercontent.com/a-/AAuE7mDHwvq5ieIsBjvZ7af_tHAEz7Fbv0U4hvjWIkrWEQ=s64",
      "userId": "04308854459757051514"
     },
     "user_tz": -120
    },
    "id": "zbEjp4kANCgG",
    "outputId": "b615705f-3aca-448e-8269-b3ddd353e0ed"
   },
   "outputs": [
    {
     "name": "stdout",
     "output_type": "stream",
     "text": [
      "(1985, 192, 192, 3) (1985, 192, 192)\n",
      "(829, 192, 192, 3) (829, 192, 192)\n"
     ]
    }
   ],
   "source": [
    "print(x_train.shape, y_train.shape)\n",
    "print(x_val.shape, y_val.shape)"
   ]
  },
  {
   "cell_type": "code",
   "execution_count": 81,
   "metadata": {
    "colab": {
     "base_uri": "https://localhost:8080/",
     "height": 136
    },
    "colab_type": "code",
    "executionInfo": {
     "elapsed": 391,
     "status": "ok",
     "timestamp": 1567379676603,
     "user": {
      "displayName": "Swarnalata patra",
      "photoUrl": "https://lh3.googleusercontent.com/a-/AAuE7mDHwvq5ieIsBjvZ7af_tHAEz7Fbv0U4hvjWIkrWEQ=s64",
      "userId": "04308854459757051514"
     },
     "user_tz": -120
    },
    "id": "DsmMkhoEGOc-",
    "outputId": "68a82b1d-0a18-45a9-f9e5-878777c4ad35"
   },
   "outputs": [
    {
     "data": {
      "text/plain": [
       "array([[0., 0., 0., ..., 1., 1., 0.],\n",
       "       [0., 0., 0., ..., 1., 1., 0.],\n",
       "       [0., 0., 0., ..., 1., 1., 0.],\n",
       "       ...,\n",
       "       [0., 0., 0., ..., 0., 0., 0.],\n",
       "       [0., 0., 0., ..., 1., 1., 1.],\n",
       "       [0., 0., 0., ..., 1., 1., 1.]], dtype=float32)"
      ]
     },
     "execution_count": 81,
     "metadata": {
      "tags": []
     },
     "output_type": "execute_result"
    }
   ],
   "source": [
    "y_val[5]"
   ]
  },
  {
   "cell_type": "code",
   "execution_count": 5,
   "metadata": {
    "colab": {
     "base_uri": "https://localhost:8080/",
     "height": 286
    },
    "colab_type": "code",
    "executionInfo": {
     "elapsed": 616,
     "status": "ok",
     "timestamp": 1567365305445,
     "user": {
      "displayName": "Swarnalata patra",
      "photoUrl": "https://lh3.googleusercontent.com/a-/AAuE7mDHwvq5ieIsBjvZ7af_tHAEz7Fbv0U4hvjWIkrWEQ=s64",
      "userId": "04308854459757051514"
     },
     "user_tz": -120
    },
    "id": "A6KbAIGJKyWT",
    "outputId": "4c17271c-659b-42fe-946c-3eb4dca820c1"
   },
   "outputs": [
    {
     "data": {
      "text/plain": [
       "<matplotlib.image.AxesImage at 0x7f04fdbc3518>"
      ]
     },
     "execution_count": 5,
     "metadata": {
      "tags": []
     },
     "output_type": "execute_result"
    },
    {
     "data": {
      "image/png": "[encoded data removed]",
      "text/plain": [
       "<Figure size 432x288 with 1 Axes>"
      ]
     },
     "metadata": {
      "tags": []
     },
     "output_type": "display_data"
    }
   ],
   "source": [
    "import matplotlib.pyplot as plt\n",
    "%matplotlib inline \n",
    "plt.imshow((y_train[5]),cmap=\"gray\")"
   ]
  },
  {
   "cell_type": "code",
   "execution_count": 6,
   "metadata": {
    "colab": {
     "base_uri": "https://localhost:8080/",
     "height": 34
    },
    "colab_type": "code",
    "executionInfo": {
     "elapsed": 1857,
     "status": "ok",
     "timestamp": 1567365309061,
     "user": {
      "displayName": "Swarnalata patra",
      "photoUrl": "https://lh3.googleusercontent.com/a-/AAuE7mDHwvq5ieIsBjvZ7af_tHAEz7Fbv0U4hvjWIkrWEQ=s64",
      "userId": "04308854459757051514"
     },
     "user_tz": -120
    },
    "id": "3FbWJ4azKyWV",
    "outputId": "ab3d363c-db96-4365-83e9-91dbdcc64f1b"
   },
   "outputs": [
    {
     "name": "stderr",
     "output_type": "stream",
     "text": [
      "Using TensorFlow backend.\n"
     ]
    }
   ],
   "source": [
    "import keras\n",
    "from keras.models import Model\n",
    "from keras.layers import Input,Dense,Flatten,Dropout,merge,Reshape,Conv2D,MaxPooling2D,UpSampling2D,Conv2DTranspose,Activation, Dropout\n",
    "from keras.layers.normalization import BatchNormalization\n",
    "from keras.callbacks import ModelCheckpoint\n",
    "from keras.optimizers import Adadelta, RMSprop,SGD,Adam\n",
    "from keras import regularizers\n",
    "from keras import backend as K\n",
    "from keras.utils import to_categorical\n",
    "import tensorflow as tf"
   ]
  },
  {
   "cell_type": "code",
   "execution_count": 0,
   "metadata": {
    "colab": {},
    "colab_type": "code",
    "id": "snMycUt0KyWZ"
   },
   "outputs": [],
   "source": [
    "def cnn_net(input_img):\n",
    "    #encoder\n",
    "    conv1 = Conv2D(256, (3, 3), activation='relu', padding='same')(input_img) \n",
    "    pool1 = MaxPooling2D(pool_size=(2, 2))(conv1)\n",
    "    conv2 = Conv2D(128, (3, 3), activation='relu', padding='same')(pool1) \n",
    "    pool2 = MaxPooling2D(pool_size=(2, 2))(conv2)\n",
    "    conv3 = Conv2D(64, (3, 3), activation='relu', padding='same')(pool2) \n",
    "    pool3 = MaxPooling2D(pool_size=(2, 2))(conv3)\n",
    "    conv4 = Conv2D(32, (3, 3), activation='relu', padding='same')(pool3) \n",
    "    \n",
    "    #decoder\n",
    "    conv5 = Conv2D(32, (3, 3), activation='relu', padding='same')(conv4) \n",
    "    up1 = UpSampling2D((2,2))(conv5) \n",
    "    conv6 = Conv2D(64, (3, 3), activation='relu', padding='same')(up1) \n",
    "    up2 = UpSampling2D((2,2))(conv6) \n",
    "    conv7 = Conv2D(128, (3, 3), activation='relu', padding='same')(up2) \n",
    "    up3 = UpSampling2D((2,2))(conv7) \n",
    "    decoded = Conv2D(1, (3, 3), activation='sigmoid', padding='same')(up3) \n",
    "    return decoded"
   ]
  },
  {
   "cell_type": "code",
   "execution_count": 9,
   "metadata": {
    "colab": {
     "base_uri": "https://localhost:8080/",
     "height": 870
    },
    "colab_type": "code",
    "executionInfo": {
     "elapsed": 383,
     "status": "ok",
     "timestamp": 1567365329582,
     "user": {
      "displayName": "Swarnalata patra",
      "photoUrl": "https://lh3.googleusercontent.com/a-/AAuE7mDHwvq5ieIsBjvZ7af_tHAEz7Fbv0U4hvjWIkrWEQ=s64",
      "userId": "04308854459757051514"
     },
     "user_tz": -120
    },
    "id": "nuztojEXKyWb",
    "outputId": "26a2e00a-af6c-43f0-fd31-b06dae83f89c"
   },
   "outputs": [
    {
     "name": "stderr",
     "output_type": "stream",
     "text": [
      "WARNING: Logging before flag parsing goes to stderr.\n",
      "W0901 19:15:30.180411 139660259399552 deprecation_wrapper.py:119] From /usr/local/lib/python3.6/dist-packages/keras/backend/tensorflow_backend.py:66: The name tf.get_default_graph is deprecated. Please use tf.compat.v1.get_default_graph instead.\n",
      "\n",
      "W0901 19:15:30.182694 139660259399552 deprecation_wrapper.py:119] From /usr/local/lib/python3.6/dist-packages/keras/backend/tensorflow_backend.py:541: The name tf.placeholder is deprecated. Please use tf.compat.v1.placeholder instead.\n",
      "\n",
      "W0901 19:15:30.190085 139660259399552 deprecation_wrapper.py:119] From /usr/local/lib/python3.6/dist-packages/keras/backend/tensorflow_backend.py:4432: The name tf.random_uniform is deprecated. Please use tf.random.uniform instead.\n",
      "\n",
      "W0901 19:15:30.212976 139660259399552 deprecation_wrapper.py:119] From /usr/local/lib/python3.6/dist-packages/keras/backend/tensorflow_backend.py:4267: The name tf.nn.max_pool is deprecated. Please use tf.nn.max_pool2d instead.\n",
      "\n",
      "W0901 19:15:30.277583 139660259399552 deprecation_wrapper.py:119] From /usr/local/lib/python3.6/dist-packages/keras/backend/tensorflow_backend.py:2239: The name tf.image.resize_nearest_neighbor is deprecated. Please use tf.compat.v1.image.resize_nearest_neighbor instead.\n",
      "\n"
     ]
    },
    {
     "name": "stdout",
     "output_type": "stream",
     "text": [
      "Model: \"model_1\"\n",
      "_________________________________________________________________\n",
      "Layer (type)                 Output Shape              Param #   \n",
      "=================================================================\n",
      "input_1 (InputLayer)         (None, 192, 192, 3)       0         \n",
      "_________________________________________________________________\n",
      "conv2d_1 (Conv2D)            (None, 192, 192, 256)     7168      \n",
      "_________________________________________________________________\n",
      "max_pooling2d_1 (MaxPooling2 (None, 96, 96, 256)       0         \n",
      "_________________________________________________________________\n",
      "conv2d_2 (Conv2D)            (None, 96, 96, 128)       295040    \n",
      "_________________________________________________________________\n",
      "max_pooling2d_2 (MaxPooling2 (None, 48, 48, 128)       0         \n",
      "_________________________________________________________________\n",
      "conv2d_3 (Conv2D)            (None, 48, 48, 64)        73792     \n",
      "_________________________________________________________________\n",
      "max_pooling2d_3 (MaxPooling2 (None, 24, 24, 64)        0         \n",
      "_________________________________________________________________\n",
      "conv2d_4 (Conv2D)            (None, 24, 24, 32)        18464     \n",
      "_________________________________________________________________\n",
      "conv2d_5 (Conv2D)            (None, 24, 24, 32)        9248      \n",
      "_________________________________________________________________\n",
      "up_sampling2d_1 (UpSampling2 (None, 48, 48, 32)        0         \n",
      "_________________________________________________________________\n",
      "conv2d_6 (Conv2D)            (None, 48, 48, 64)        18496     \n",
      "_________________________________________________________________\n",
      "up_sampling2d_2 (UpSampling2 (None, 96, 96, 64)        0         \n",
      "_________________________________________________________________\n",
      "conv2d_7 (Conv2D)            (None, 96, 96, 128)       73856     \n",
      "_________________________________________________________________\n",
      "up_sampling2d_3 (UpSampling2 (None, 192, 192, 128)     0         \n",
      "_________________________________________________________________\n",
      "conv2d_8 (Conv2D)            (None, 192, 192, 1)       1153      \n",
      "=================================================================\n",
      "Total params: 497,217\n",
      "Trainable params: 497,217\n",
      "Non-trainable params: 0\n",
      "_________________________________________________________________\n"
     ]
    }
   ],
   "source": [
    "# segmentation model \n",
    "from datetime import datetime \n",
    "input_img = Input(shape=(image_size, image_size, 3))\n",
    "autoencoder = Model(input_img, cnn_net(input_img))\n",
    "autoencoder.summary()"
   ]
  },
  {
   "cell_type": "markdown",
   "metadata": {
    "colab_type": "text",
    "id": "HimEYskaRFQJ"
   },
   "source": [
    "#### Dice Score\n",
    "It is a statistic used to gauge the similarity of two samples.\n",
    "https://dev.to/andys0975/what-is-dice-loss-for-image-segmentation-3p85"
   ]
  },
  {
   "cell_type": "code",
   "execution_count": 0,
   "metadata": {
    "colab": {},
    "colab_type": "code",
    "id": "WwQ8RcKqRDLb"
   },
   "outputs": [],
   "source": [
    "def dice_score(y_true, y_pred):\n",
    "    return tf.reduce_mean(dice_coef(y_true, y_pred))\n",
    "\n",
    "  \n",
    "def dice_coef(y_true, y_pred, smooth=1):\n",
    "    \"\"\"\n",
    "    Dice = (2*|X & Y|)/ (|X|+ |Y|)\n",
    "         =  2*sum(|A*B|)/(sum(A^2)+sum(B^2))\n",
    "    ref: https://arxiv.org/pdf/1606.04797v1.pdf\n",
    "    \"\"\"\n",
    "    intersection = K.sum(K.abs(y_true * y_pred), axis=-1)\n",
    "    return (2. * intersection + smooth) / (K.sum(K.square(y_true),-1) + K.sum(K.square(y_pred),-1) + smooth)\n",
    "\n",
    "def dice_loss(y_true, y_pred):\n",
    "    return 1-dice_coef(y_true, y_pred)\n",
    "    "
   ]
  },
  {
   "cell_type": "code",
   "execution_count": 0,
   "metadata": {
    "colab": {},
    "colab_type": "code",
    "id": "O7bkwahkj9XK"
   },
   "outputs": [],
   "source": [
    "adam = Adam(lr=0.06)"
   ]
  },
  {
   "cell_type": "code",
   "execution_count": 76,
   "metadata": {
    "colab": {
     "base_uri": "https://localhost:8080/",
     "height": 751
    },
    "colab_type": "code",
    "executionInfo": {
     "elapsed": 5026,
     "status": "ok",
     "timestamp": 1567378736441,
     "user": {
      "displayName": "Swarnalata patra",
      "photoUrl": "https://lh3.googleusercontent.com/a-/AAuE7mDHwvq5ieIsBjvZ7af_tHAEz7Fbv0U4hvjWIkrWEQ=s64",
      "userId": "04308854459757051514"
     },
     "user_tz": -120
    },
    "id": "x7WkPHrEDSEE",
    "outputId": "a1b53102-b9ea-4786-fb39-e2ab5b9424f6"
   },
   "outputs": [
    {
     "name": "stdout",
     "output_type": "stream",
     "text": [
      "Collecting livelossplot\n",
      "  Downloading https://files.pythonhosted.org/packages/8e/f6/0618c30078f9c1e4b2cd84f1ea6bb70c6615070468b75b0d934326107bcd/livelossplot-0.4.1-py3-none-any.whl\n",
      "Requirement already satisfied: matplotlib in /usr/local/lib/python3.6/dist-packages (from livelossplot) (3.0.3)\n",
      "Requirement already satisfied: notebook in /usr/local/lib/python3.6/dist-packages (from livelossplot) (5.2.2)\n",
      "Requirement already satisfied: numpy>=1.10.0 in /usr/local/lib/python3.6/dist-packages (from matplotlib->livelossplot) (1.16.4)\n",
      "Requirement already satisfied: pyparsing!=2.0.4,!=2.1.2,!=2.1.6,>=2.0.1 in /usr/local/lib/python3.6/dist-packages (from matplotlib->livelossplot) (2.4.2)\n",
      "Requirement already satisfied: python-dateutil>=2.1 in /usr/local/lib/python3.6/dist-packages (from matplotlib->livelossplot) (2.5.3)\n",
      "Requirement already satisfied: cycler>=0.10 in /usr/local/lib/python3.6/dist-packages (from matplotlib->livelossplot) (0.10.0)\n",
      "Requirement already satisfied: kiwisolver>=1.0.1 in /usr/local/lib/python3.6/dist-packages (from matplotlib->livelossplot) (1.1.0)\n",
      "Requirement already satisfied: jupyter-core in /usr/local/lib/python3.6/dist-packages (from notebook->livelossplot) (4.5.0)\n",
      "Requirement already satisfied: tornado>=4 in /usr/local/lib/python3.6/dist-packages (from notebook->livelossplot) (4.5.3)\n",
      "Requirement already satisfied: jupyter-client in /usr/local/lib/python3.6/dist-packages (from notebook->livelossplot) (5.3.1)\n",
      "Requirement already satisfied: ipython-genutils in /usr/local/lib/python3.6/dist-packages (from notebook->livelossplot) (0.2.0)\n",
      "Requirement already satisfied: jinja2 in /usr/local/lib/python3.6/dist-packages (from notebook->livelossplot) (2.10.1)\n",
      "Requirement already satisfied: traitlets>=4.2.1 in /usr/local/lib/python3.6/dist-packages (from notebook->livelossplot) (4.3.2)\n",
      "Requirement already satisfied: nbconvert in /usr/local/lib/python3.6/dist-packages (from notebook->livelossplot) (5.6.0)\n",
      "Requirement already satisfied: terminado>=0.3.3; sys_platform != \"win32\" in /usr/local/lib/python3.6/dist-packages (from notebook->livelossplot) (0.8.2)\n",
      "Requirement already satisfied: nbformat in /usr/local/lib/python3.6/dist-packages (from notebook->livelossplot) (4.4.0)\n",
      "Requirement already satisfied: ipykernel in /usr/local/lib/python3.6/dist-packages (from notebook->livelossplot) (4.6.1)\n",
      "Requirement already satisfied: six>=1.5 in /usr/local/lib/python3.6/dist-packages (from python-dateutil>=2.1->matplotlib->livelossplot) (1.12.0)\n",
      "Requirement already satisfied: setuptools in /usr/local/lib/python3.6/dist-packages (from kiwisolver>=1.0.1->matplotlib->livelossplot) (41.2.0)\n",
      "Requirement already satisfied: pyzmq>=13 in /usr/local/lib/python3.6/dist-packages (from jupyter-client->notebook->livelossplot) (17.0.0)\n",
      "Requirement already satisfied: MarkupSafe>=0.23 in /usr/local/lib/python3.6/dist-packages (from jinja2->notebook->livelossplot) (1.1.1)\n",
      "Requirement already satisfied: decorator in /usr/local/lib/python3.6/dist-packages (from traitlets>=4.2.1->notebook->livelossplot) (4.4.0)\n",
      "Requirement already satisfied: pandocfilters>=1.4.1 in /usr/local/lib/python3.6/dist-packages (from nbconvert->notebook->livelossplot) (1.4.2)\n",
      "Requirement already satisfied: testpath in /usr/local/lib/python3.6/dist-packages (from nbconvert->notebook->livelossplot) (0.4.2)\n",
      "Requirement already satisfied: bleach in /usr/local/lib/python3.6/dist-packages (from nbconvert->notebook->livelossplot) (3.1.0)\n",
      "Requirement already satisfied: entrypoints>=0.2.2 in /usr/local/lib/python3.6/dist-packages (from nbconvert->notebook->livelossplot) (0.3)\n",
      "Requirement already satisfied: defusedxml in /usr/local/lib/python3.6/dist-packages (from nbconvert->notebook->livelossplot) (0.6.0)\n",
      "Requirement already satisfied: pygments in /usr/local/lib/python3.6/dist-packages (from nbconvert->notebook->livelossplot) (2.1.3)\n",
      "Requirement already satisfied: mistune<2,>=0.8.1 in /usr/local/lib/python3.6/dist-packages (from nbconvert->notebook->livelossplot) (0.8.4)\n",
      "Requirement already satisfied: ptyprocess; os_name != \"nt\" in /usr/local/lib/python3.6/dist-packages (from terminado>=0.3.3; sys_platform != \"win32\"->notebook->livelossplot) (0.6.0)\n",
      "Requirement already satisfied: jsonschema!=2.5.0,>=2.4 in /usr/local/lib/python3.6/dist-packages (from nbformat->notebook->livelossplot) (2.6.0)\n",
      "Requirement already satisfied: ipython>=4.0.0 in /usr/local/lib/python3.6/dist-packages (from ipykernel->notebook->livelossplot) (5.5.0)\n",
      "Requirement already satisfied: webencodings in /usr/local/lib/python3.6/dist-packages (from bleach->nbconvert->notebook->livelossplot) (0.5.1)\n",
      "Requirement already satisfied: pexpect; sys_platform != \"win32\" in /usr/local/lib/python3.6/dist-packages (from ipython>=4.0.0->ipykernel->notebook->livelossplot) (4.7.0)\n",
      "Requirement already satisfied: prompt-toolkit<2.0.0,>=1.0.4 in /usr/local/lib/python3.6/dist-packages (from ipython>=4.0.0->ipykernel->notebook->livelossplot) (1.0.16)\n",
      "Requirement already satisfied: pickleshare in /usr/local/lib/python3.6/dist-packages (from ipython>=4.0.0->ipykernel->notebook->livelossplot) (0.7.5)\n",
      "Requirement already satisfied: simplegeneric>0.8 in /usr/local/lib/python3.6/dist-packages (from ipython>=4.0.0->ipykernel->notebook->livelossplot) (0.8.1)\n",
      "Requirement already satisfied: wcwidth in /usr/local/lib/python3.6/dist-packages (from prompt-toolkit<2.0.0,>=1.0.4->ipython>=4.0.0->ipykernel->notebook->livelossplot) (0.1.7)\n",
      "Installing collected packages: livelossplot\n",
      "Successfully installed livelossplot-0.4.1\n"
     ]
    }
   ],
   "source": [
    "!pip install livelossplot\n",
    "from livelossplot import PlotLossesKeras"
   ]
  },
  {
   "cell_type": "code",
   "execution_count": 82,
   "metadata": {
    "colab": {
     "base_uri": "https://localhost:8080/",
     "height": 814
    },
    "colab_type": "code",
    "executionInfo": {
     "elapsed": 183,
     "status": "ok",
     "timestamp": 1567379972535,
     "user": {
      "displayName": "Swarnalata patra",
      "photoUrl": "https://lh3.googleusercontent.com/a-/AAuE7mDHwvq5ieIsBjvZ7af_tHAEz7Fbv0U4hvjWIkrWEQ=s64",
      "userId": "04308854459757051514"
     },
     "user_tz": -120
    },
    "id": "36gNY4aTKyWe",
    "outputId": "01a5e54c-1e9b-4fde-bd26-afd6c67e26b5"
   },
   "outputs": [
    {
     "data": {
      "image/png": "[encoded data removed]",
      "text/plain": [
       "<Figure size 864x864 with 3 Axes>"
      ]
     },
     "metadata": {
      "tags": []
     },
     "output_type": "display_data"
    },
    {
     "name": "stdout",
     "output_type": "stream",
     "text": [
      "Log-loss (cost function):\n",
      "training   (min:    5.975, max:    5.975, cur:    5.975)\n",
      "validation (min:    5.472, max:    5.472, cur:    5.472)\n",
      "\n",
      "dice_score:\n",
      "training   (min:    0.815, max:    0.815, cur:    0.815)\n",
      "validation (min:    0.830, max:    0.830, cur:    0.830)\n",
      "\n",
      "Accuracy:\n",
      "training   (min:    0.629, max:    0.629, cur:    0.629)\n",
      "validation (min:    0.660, max:    0.660, cur:    0.660)\n",
      "Time elapsed (hh:mm:ss.ms) 0:03:25.721903\n"
     ]
    }
   ],
   "source": [
    "autoencoder.compile(optimizer=adam, loss='binary_crossentropy', metrics=[dice_score, 'accuracy'])\n",
    "start_time = datetime.now() \n",
    "history = autoencoder.fit(x_train, y_train[:,:,:,np.newaxis],\n",
    "                epochs=5,\n",
    "                batch_size=32,\n",
    "                shuffle=True,\n",
    "                validation_data=(x_val, y_val[:,:,:,np.newaxis]),\n",
    "                callbacks=[PlotLossesKeras(), \n",
    "                ModelCheckpoint(filepath='bin_cross' + '.h5', monitor='val_loss', save_best_only=True)])\n",
    "\n",
    "print('Time elapsed (hh:mm:ss.ms) {}'.format(datetime.now() - start_time))"
   ]
  },
  {
   "cell_type": "markdown",
   "metadata": {
    "colab_type": "text",
    "id": "0CyZd6pTfvJG"
   },
   "source": [
    "#### Loss Functions\n",
    "Reference: https://lars76.github.io/neural-networks/object-detection/losses-for-segmentation/"
   ]
  },
  {
   "cell_type": "code",
   "execution_count": 0,
   "metadata": {
    "colab": {},
    "colab_type": "code",
    "id": "J_TIzPKNKyWg"
   },
   "outputs": [],
   "source": [
    "def weighted_cross_entropy(weights):\n",
    "  def convert_to_logits(y_pred):\n",
    "      # see https://github.com/tensorflow/tensorflow/blob/r1.10/tensorflow/python/keras/backend.py#L3525\n",
    "      y_pred = tf.clip_by_value(y_pred, tf.keras.backend.epsilon(), 1 - tf.keras.backend.epsilon())\n",
    "      return tf.log(y_pred / (1 - y_pred))\n",
    "\n",
    "  def loss(y_true, y_pred):\n",
    "    y_pred = convert_to_logits(y_pred)\n",
    "    loss = tf.nn.weighted_cross_entropy_with_logits(logits=y_pred, targets=y_true, pos_weight=weights)\n",
    "    # or reduce_sum and/or axis=-1\n",
    "    return tf.reduce_mean(loss)\n",
    "\n",
    "  return loss"
   ]
  },
  {
   "cell_type": "code",
   "execution_count": 0,
   "metadata": {
    "colab": {},
    "colab_type": "code",
    "id": "QXmZ8x_egE2z"
   },
   "outputs": [],
   "source": [
    "def balanced_cross_entropy(weights):\n",
    "  def convert_to_logits(y_pred):\n",
    "      # see https://github.com/tensorflow/tensorflow/blob/r1.10/tensorflow/python/keras/backend.py#L3525\n",
    "      y_pred = tf.clip_by_value(y_pred, tf.keras.backend.epsilon(), 1 - tf.keras.backend.epsilon())\n",
    "\n",
    "      return tf.log(y_pred / (1 - y_pred))\n",
    "\n",
    "  def loss(y_true, y_pred):\n",
    "    y_pred = convert_to_logits(y_pred)\n",
    "    pos_weight = weights / (1 - weights)\n",
    "    loss = tf.nn.weighted_cross_entropy_with_logits(logits=y_pred, targets=y_true, pos_weight=pos_weight)\n",
    "\n",
    "    # or reduce_sum and/or axis=-1\n",
    "    return tf.reduce_mean(loss * (1 - weights))\n",
    "\n",
    "  return loss"
   ]
  },
  {
   "cell_type": "markdown",
   "metadata": {
    "colab_type": "text",
    "id": "8DxmFD8Jjoco"
   },
   "source": [
    "Reference: https://lars76.github.io/neural-networks/object-detection/losses-for-segmentation/"
   ]
  },
  {
   "cell_type": "code",
   "execution_count": 0,
   "metadata": {
    "colab": {},
    "colab_type": "code",
    "id": "L_WY_4coKyWp"
   },
   "outputs": [],
   "source": [
    "def combined_loss(weights):\n",
    "    def convert_to_logits(y_pred):\n",
    "        y_pred = tf.clip_by_value(y_pred, tf.keras.backend.epsilon(), 1 - tf.keras.backend.epsilon())\n",
    "\n",
    "        return tf.log(y_pred / (1 - y_pred))\n",
    "\n",
    "    def loss(y_true, y_pred):\n",
    "        y_pred = convert_to_logits(y_pred)\n",
    "        loss1 = tf.reduce_mean(tf.nn.weighted_cross_entropy_with_logits(logits=y_pred, targets=y_true, pos_weight=weights))\n",
    "        loss2 = dice_loss(y_true, y_pred) \n",
    "        return tf.reduce_mean(loss1 + loss2)\n",
    "\n",
    "    return loss\n",
    "    "
   ]
  },
  {
   "cell_type": "code",
   "execution_count": 65,
   "metadata": {
    "colab": {
     "base_uri": "https://localhost:8080/",
     "height": 1000
    },
    "colab_type": "code",
    "executionInfo": {
     "elapsed": 1183633,
     "status": "ok",
     "timestamp": 1567377592278,
     "user": {
      "displayName": "Swarnalata patra",
      "photoUrl": "https://lh3.googleusercontent.com/a-/AAuE7mDHwvq5ieIsBjvZ7af_tHAEz7Fbv0U4hvjWIkrWEQ=s64",
      "userId": "04308854459757051514"
     },
     "user_tz": -120
    },
    "id": "SbTZ5VaSKyWs",
    "outputId": "7e874190-7d5e-41ed-ab7c-af9df8c57b61"
   },
   "outputs": [
    {
     "name": "stdout",
     "output_type": "stream",
     "text": [
      "Train on 1985 samples, validate on 829 samples\n",
      "Epoch 1/30\n",
      "1985/1985 [==============================] - 41s 20ms/step - loss: 11.9501 - dice_score: 0.8146 - acc: 0.6293 - val_loss: 10.9448 - val_dice_score: 0.8302 - val_acc: 0.6605\n",
      "Epoch 2/30\n",
      "1985/1985 [==============================] - 39s 20ms/step - loss: 11.9501 - dice_score: 0.8146 - acc: 0.6293 - val_loss: 10.9448 - val_dice_score: 0.8302 - val_acc: 0.6605\n",
      "Epoch 3/30\n",
      "1985/1985 [==============================] - 39s 20ms/step - loss: 11.9501 - dice_score: 0.8146 - acc: 0.6293 - val_loss: 10.9448 - val_dice_score: 0.8302 - val_acc: 0.6605\n",
      "Epoch 4/30\n",
      "1985/1985 [==============================] - 39s 20ms/step - loss: 11.9501 - dice_score: 0.8146 - acc: 0.6293 - val_loss: 10.9448 - val_dice_score: 0.8302 - val_acc: 0.6605\n",
      "Epoch 5/30\n",
      "1985/1985 [==============================] - 39s 20ms/step - loss: 11.9501 - dice_score: 0.8146 - acc: 0.6293 - val_loss: 10.9448 - val_dice_score: 0.8302 - val_acc: 0.6605\n",
      "Epoch 6/30\n",
      "1985/1985 [==============================] - 39s 20ms/step - loss: 11.9501 - dice_score: 0.8146 - acc: 0.6293 - val_loss: 10.9448 - val_dice_score: 0.8302 - val_acc: 0.6605\n",
      "Epoch 7/30\n",
      "1985/1985 [==============================] - 39s 20ms/step - loss: 11.9501 - dice_score: 0.8146 - acc: 0.6293 - val_loss: 10.9448 - val_dice_score: 0.8302 - val_acc: 0.6605\n",
      "Epoch 8/30\n",
      "1985/1985 [==============================] - 39s 20ms/step - loss: 11.9501 - dice_score: 0.8146 - acc: 0.6293 - val_loss: 10.9448 - val_dice_score: 0.8302 - val_acc: 0.6605\n",
      "Epoch 9/30\n",
      "1985/1985 [==============================] - 39s 20ms/step - loss: 11.9501 - dice_score: 0.8146 - acc: 0.6293 - val_loss: 10.9448 - val_dice_score: 0.8302 - val_acc: 0.6605\n",
      "Epoch 10/30\n",
      "1985/1985 [==============================] - 39s 20ms/step - loss: 11.9501 - dice_score: 0.8146 - acc: 0.6293 - val_loss: 10.9448 - val_dice_score: 0.8302 - val_acc: 0.6605\n",
      "Epoch 11/30\n",
      "1985/1985 [==============================] - 39s 20ms/step - loss: 11.9501 - dice_score: 0.8146 - acc: 0.6293 - val_loss: 10.9448 - val_dice_score: 0.8302 - val_acc: 0.6605\n",
      "Epoch 12/30\n",
      "1985/1985 [==============================] - 39s 20ms/step - loss: 11.9501 - dice_score: 0.8146 - acc: 0.6293 - val_loss: 10.9448 - val_dice_score: 0.8302 - val_acc: 0.6605\n",
      "Epoch 13/30\n",
      "1985/1985 [==============================] - 39s 20ms/step - loss: 11.9501 - dice_score: 0.8146 - acc: 0.6293 - val_loss: 10.9448 - val_dice_score: 0.8302 - val_acc: 0.6605\n",
      "Epoch 14/30\n",
      "1985/1985 [==============================] - 39s 20ms/step - loss: 11.9501 - dice_score: 0.8146 - acc: 0.6293 - val_loss: 10.9448 - val_dice_score: 0.8302 - val_acc: 0.6605\n",
      "Epoch 15/30\n",
      "1985/1985 [==============================] - 40s 20ms/step - loss: 11.9501 - dice_score: 0.8146 - acc: 0.6293 - val_loss: 10.9448 - val_dice_score: 0.8302 - val_acc: 0.6605\n",
      "Epoch 16/30\n",
      "1985/1985 [==============================] - 39s 20ms/step - loss: 11.9501 - dice_score: 0.8146 - acc: 0.6293 - val_loss: 10.9448 - val_dice_score: 0.8302 - val_acc: 0.6605\n",
      "Epoch 17/30\n",
      "1985/1985 [==============================] - 40s 20ms/step - loss: 11.9501 - dice_score: 0.8146 - acc: 0.6293 - val_loss: 10.9448 - val_dice_score: 0.8302 - val_acc: 0.6605\n",
      "Epoch 18/30\n",
      "1985/1985 [==============================] - 39s 20ms/step - loss: 11.9501 - dice_score: 0.8146 - acc: 0.6293 - val_loss: 10.9448 - val_dice_score: 0.8302 - val_acc: 0.6605\n",
      "Epoch 19/30\n",
      "1985/1985 [==============================] - 39s 20ms/step - loss: 11.9501 - dice_score: 0.8146 - acc: 0.6293 - val_loss: 10.9448 - val_dice_score: 0.8302 - val_acc: 0.6605\n",
      "Epoch 20/30\n",
      "1985/1985 [==============================] - 39s 20ms/step - loss: 11.9501 - dice_score: 0.8146 - acc: 0.6293 - val_loss: 10.9448 - val_dice_score: 0.8302 - val_acc: 0.6605\n",
      "Epoch 21/30\n",
      "1985/1985 [==============================] - 40s 20ms/step - loss: 11.9501 - dice_score: 0.8146 - acc: 0.6293 - val_loss: 10.9448 - val_dice_score: 0.8302 - val_acc: 0.6605\n",
      "Epoch 22/30\n",
      "1985/1985 [==============================] - 40s 20ms/step - loss: 11.9501 - dice_score: 0.8146 - acc: 0.6293 - val_loss: 10.9448 - val_dice_score: 0.8302 - val_acc: 0.6605\n",
      "Epoch 23/30\n",
      "1985/1985 [==============================] - 39s 20ms/step - loss: 11.9501 - dice_score: 0.8146 - acc: 0.6293 - val_loss: 10.9448 - val_dice_score: 0.8302 - val_acc: 0.6605\n",
      "Epoch 24/30\n",
      "1985/1985 [==============================] - 40s 20ms/step - loss: 11.9501 - dice_score: 0.8146 - acc: 0.6293 - val_loss: 10.9448 - val_dice_score: 0.8302 - val_acc: 0.6605\n",
      "Epoch 25/30\n",
      "1985/1985 [==============================] - 40s 20ms/step - loss: 11.9501 - dice_score: 0.8146 - acc: 0.6293 - val_loss: 10.9448 - val_dice_score: 0.8302 - val_acc: 0.6605\n",
      "Epoch 26/30\n",
      "1985/1985 [==============================] - 40s 20ms/step - loss: 11.9501 - dice_score: 0.8146 - acc: 0.6293 - val_loss: 10.9448 - val_dice_score: 0.8302 - val_acc: 0.6605\n",
      "Epoch 27/30\n",
      "1985/1985 [==============================] - 40s 20ms/step - loss: 11.9501 - dice_score: 0.8146 - acc: 0.6293 - val_loss: 10.9448 - val_dice_score: 0.8302 - val_acc: 0.6605\n",
      "Epoch 28/30\n",
      "1985/1985 [==============================] - 39s 20ms/step - loss: 11.9501 - dice_score: 0.8146 - acc: 0.6293 - val_loss: 10.9448 - val_dice_score: 0.8302 - val_acc: 0.6605\n",
      "Epoch 29/30\n",
      "1985/1985 [==============================] - 39s 20ms/step - loss: 11.9501 - dice_score: 0.8146 - acc: 0.6293 - val_loss: 10.9448 - val_dice_score: 0.8302 - val_acc: 0.6605\n",
      "Epoch 30/30\n",
      "1985/1985 [==============================] - 39s 20ms/step - loss: 11.9501 - dice_score: 0.8146 - acc: 0.6293 - val_loss: 10.9448 - val_dice_score: 0.8302 - val_acc: 0.6605\n",
      "Time elapsed (hh:mm:ss.ms) 0:19:43.196092\n"
     ]
    }
   ],
   "source": [
    "autoencoder.compile(optimizer=adam, loss=weighted_cross_entropy(2), metrics=[dice_score, 'accuracy'])\n",
    "start_time = datetime.now() \n",
    "history = autoencoder.fit(x_train, y_train[:,:,:,np.newaxis],\n",
    "                epochs=30,\n",
    "                batch_size=32,\n",
    "                shuffle=True,\n",
    "                validation_data=(x_val, y_val[:,:,:,np.newaxis]))\n",
    "print('Time elapsed (hh:mm:ss.ms) {}'.format(datetime.now() - start_time))"
   ]
  },
  {
   "cell_type": "code",
   "execution_count": 83,
   "metadata": {
    "colab": {
     "base_uri": "https://localhost:8080/",
     "height": 286
    },
    "colab_type": "code",
    "executionInfo": {
     "elapsed": 466,
     "status": "ok",
     "timestamp": 1567380191065,
     "user": {
      "displayName": "Swarnalata patra",
      "photoUrl": "https://lh3.googleusercontent.com/a-/AAuE7mDHwvq5ieIsBjvZ7af_tHAEz7Fbv0U4hvjWIkrWEQ=s64",
      "userId": "04308854459757051514"
     },
     "user_tz": -120
    },
    "id": "hIGwttFx_q_D",
    "outputId": "c471d145-ab39-4592-d70c-adc81a2cc251"
   },
   "outputs": [
    {
     "data": {
      "text/plain": [
       "<matplotlib.image.AxesImage at 0x7f04731a5278>"
      ]
     },
     "execution_count": 83,
     "metadata": {
      "tags": []
     },
     "output_type": "execute_result"
    },
    {
     "data": {
      "image/png": "[encoded data removed]",
      "text/plain": [
       "<Figure size 432x288 with 1 Axes>"
      ]
     },
     "metadata": {
      "tags": []
     },
     "output_type": "display_data"
    }
   ],
   "source": [
    "plt.imshow(y_train[5],cmap=\"gray\")"
   ]
  },
  {
   "cell_type": "code",
   "execution_count": 85,
   "metadata": {
    "colab": {
     "base_uri": "https://localhost:8080/",
     "height": 286
    },
    "colab_type": "code",
    "executionInfo": {
     "elapsed": 800,
     "status": "ok",
     "timestamp": 1567380211730,
     "user": {
      "displayName": "Swarnalata patra",
      "photoUrl": "https://lh3.googleusercontent.com/a-/AAuE7mDHwvq5ieIsBjvZ7af_tHAEz7Fbv0U4hvjWIkrWEQ=s64",
      "userId": "04308854459757051514"
     },
     "user_tz": -120
    },
    "id": "REG9Cs5b_kj0",
    "outputId": "8c010867-7a28-41f9-d407-b121c2185537"
   },
   "outputs": [
    {
     "data": {
      "text/plain": [
       "<matplotlib.image.AxesImage at 0x7f047310fcf8>"
      ]
     },
     "execution_count": 85,
     "metadata": {
      "tags": []
     },
     "output_type": "execute_result"
    },
    {
     "data": {
      "image/png": "[encoded data removed]",
      "text/plain": [
       "<Figure size 432x288 with 1 Axes>"
      ]
     },
     "metadata": {
      "tags": []
     },
     "output_type": "display_data"
    }
   ],
   "source": [
    "# visualize outputs:\n",
    "pred = autoencoder.predict(x_train[5:6])\n",
    "plt.imshow(pred[0][:,:,0],cmap=\"gray\")"
   ]
  },
  {
   "cell_type": "code",
   "execution_count": 86,
   "metadata": {
    "colab": {
     "base_uri": "https://localhost:8080/",
     "height": 300
    },
    "colab_type": "code",
    "executionInfo": {
     "elapsed": 1450,
     "status": "ok",
     "timestamp": 1567380220913,
     "user": {
      "displayName": "Swarnalata patra",
      "photoUrl": "https://lh3.googleusercontent.com/a-/AAuE7mDHwvq5ieIsBjvZ7af_tHAEz7Fbv0U4hvjWIkrWEQ=s64",
      "userId": "04308854459757051514"
     },
     "user_tz": -120
    },
    "id": "tNR7kLDO_2Gm",
    "outputId": "e85f1938-790e-4ad0-8def-df7e8adb0a87"
   },
   "outputs": [
    {
     "name": "stdout",
     "output_type": "stream",
     "text": [
      "auc: 0.5\n"
     ]
    },
    {
     "data": {
      "image/png": "[encoded data removed]",
      "text/plain": [
       "<Figure size 432x288 with 1 Axes>"
      ]
     },
     "metadata": {
      "tags": []
     },
     "output_type": "display_data"
    }
   ],
   "source": [
    "# \n",
    "from sklearn.metrics import roc_curve\n",
    "from sklearn.metrics import roc_auc_score\n",
    "from sklearn.metrics import f1_score\n",
    "\n",
    "pred = autoencoder.predict(x_train[0:50])\n",
    "auc = roc_auc_score(y_train[0:50].flatten().astype(\"int64\"), pred.flatten())\n",
    "fpr, tpr, thresholds = roc_curve(y_train[0:50].flatten().astype(\"int64\"), pred.flatten())\n",
    "\n",
    "plt.plot(fpr,tpr,marker='.',label='roc curve')\n",
    "plt.plot([0, 1], [0, 1], linestyle='--',label='refernce line')\n",
    "plt.legend(loc='upper left')\n",
    "plt.xlabel(\"False Positive Rate(FPR)\")\n",
    "plt.ylabel(\"True Positive Rate(TPR)\")\n",
    "\n",
    "print(\"auc: \"+str(auc))"
   ]
  },
  {
   "cell_type": "markdown",
   "metadata": {
    "colab_type": "text",
    "id": "8xv-qYtjA8t7"
   },
   "source": [
    "Reference: https://machinelearningmastery.com/display-deep-learning-model-training-history-in-keras/"
   ]
  },
  {
   "cell_type": "code",
   "execution_count": 87,
   "metadata": {
    "colab": {
     "base_uri": "https://localhost:8080/",
     "height": 590
    },
    "colab_type": "code",
    "executionInfo": {
     "elapsed": 780,
     "status": "ok",
     "timestamp": 1567380224649,
     "user": {
      "displayName": "Swarnalata patra",
      "photoUrl": "https://lh3.googleusercontent.com/a-/AAuE7mDHwvq5ieIsBjvZ7af_tHAEz7Fbv0U4hvjWIkrWEQ=s64",
      "userId": "04308854459757051514"
     },
     "user_tz": -120
    },
    "id": "0brDO-1QAgqO",
    "outputId": "bbdd3d48-3350-48de-d341-440bd45f15a4"
   },
   "outputs": [
    {
     "name": "stdout",
     "output_type": "stream",
     "text": [
      "dict_keys(['val_loss', 'val_dice_score', 'val_acc', 'loss', 'dice_score', 'acc'])\n"
     ]
    },
    {
     "data": {
      "image/png": "[encoded data removed]",
      "text/plain": [
       "<Figure size 432x288 with 1 Axes>"
      ]
     },
     "metadata": {
      "tags": []
     },
     "output_type": "display_data"
    },
    {
     "data": {
      "image/png": "[encoded data removed]",
      "text/plain": [
       "<Figure size 432x288 with 1 Axes>"
      ]
     },
     "metadata": {
      "tags": []
     },
     "output_type": "display_data"
    }
   ],
   "source": [
    "# plot learning curve \n",
    "%matplotlib inline\n",
    "print(history.history.keys())\n",
    "# summarize history for accuracy\n",
    "plt.plot(history.history['acc'])\n",
    "plt.plot(history.history['val_acc'])\n",
    "plt.title('model accuracy')\n",
    "plt.ylabel('accuracy')\n",
    "plt.xlabel('epoch')\n",
    "plt.legend(['train', 'test'], loc='right')\n",
    "plt.show()\n",
    "# summarize history for loss\n",
    "plt.plot(history.history['loss'])\n",
    "plt.plot(history.history['val_loss'])\n",
    "plt.title('model loss')\n",
    "plt.ylabel('loss')\n",
    "plt.xlabel('epoch')\n",
    "plt.legend(['train', 'test'], loc='right')\n",
    "plt.show()"
   ]
  },
  {
   "cell_type": "code",
   "execution_count": 35,
   "metadata": {
    "colab": {
     "base_uri": "https://localhost:8080/",
     "height": 1000
    },
    "colab_type": "code",
    "executionInfo": {
     "elapsed": 1200447,
     "status": "ok",
     "timestamp": 1567375056288,
     "user": {
      "displayName": "Swarnalata patra",
      "photoUrl": "https://lh3.googleusercontent.com/a-/AAuE7mDHwvq5ieIsBjvZ7af_tHAEz7Fbv0U4hvjWIkrWEQ=s64",
      "userId": "04308854459757051514"
     },
     "user_tz": -120
    },
    "id": "w7jyEZw3KyWu",
    "outputId": "6334059e-779f-441c-d7d4-edde564e65bf"
   },
   "outputs": [
    {
     "name": "stdout",
     "output_type": "stream",
     "text": [
      "Train on 1985 samples, validate on 829 samples\n",
      "Epoch 1/30\n",
      "1985/1985 [==============================] - 41s 21ms/step - loss: 12.9006 - dice_score: 0.8146 - acc: 0.6293 - val_loss: 11.8992 - val_dice_score: 0.8302 - val_acc: 0.6605\n",
      "Epoch 2/30\n",
      "1985/1985 [==============================] - 40s 20ms/step - loss: 12.9006 - dice_score: 0.8146 - acc: 0.6293 - val_loss: 11.8992 - val_dice_score: 0.8302 - val_acc: 0.6605\n",
      "Epoch 3/30\n",
      "1985/1985 [==============================] - 40s 20ms/step - loss: 12.9006 - dice_score: 0.8146 - acc: 0.6293 - val_loss: 11.8992 - val_dice_score: 0.8302 - val_acc: 0.6605\n",
      "Epoch 4/30\n",
      "1985/1985 [==============================] - 40s 20ms/step - loss: 12.9006 - dice_score: 0.8146 - acc: 0.6293 - val_loss: 11.8992 - val_dice_score: 0.8302 - val_acc: 0.6605\n",
      "Epoch 5/30\n",
      "1985/1985 [==============================] - 40s 20ms/step - loss: 12.9006 - dice_score: 0.8146 - acc: 0.6293 - val_loss: 11.8992 - val_dice_score: 0.8302 - val_acc: 0.6605\n",
      "Epoch 6/30\n",
      "1985/1985 [==============================] - 40s 20ms/step - loss: 12.9006 - dice_score: 0.8146 - acc: 0.6293 - val_loss: 11.8992 - val_dice_score: 0.8302 - val_acc: 0.6605\n",
      "Epoch 7/30\n",
      "1985/1985 [==============================] - 40s 20ms/step - loss: 12.9006 - dice_score: 0.8146 - acc: 0.6293 - val_loss: 11.8992 - val_dice_score: 0.8302 - val_acc: 0.6605\n",
      "Epoch 8/30\n",
      "1985/1985 [==============================] - 40s 20ms/step - loss: 12.9006 - dice_score: 0.8146 - acc: 0.6293 - val_loss: 11.8992 - val_dice_score: 0.8302 - val_acc: 0.6605\n",
      "Epoch 9/30\n",
      "1985/1985 [==============================] - 40s 20ms/step - loss: 12.9006 - dice_score: 0.8146 - acc: 0.6293 - val_loss: 11.8992 - val_dice_score: 0.8302 - val_acc: 0.6605\n",
      "Epoch 10/30\n",
      "1985/1985 [==============================] - 40s 20ms/step - loss: 12.9006 - dice_score: 0.8146 - acc: 0.6293 - val_loss: 11.8992 - val_dice_score: 0.8302 - val_acc: 0.6605\n",
      "Epoch 11/30\n",
      "1985/1985 [==============================] - 40s 20ms/step - loss: 12.9006 - dice_score: 0.8146 - acc: 0.6293 - val_loss: 11.8992 - val_dice_score: 0.8302 - val_acc: 0.6605\n",
      "Epoch 12/30\n",
      "1985/1985 [==============================] - 40s 20ms/step - loss: 12.9006 - dice_score: 0.8146 - acc: 0.6293 - val_loss: 11.8992 - val_dice_score: 0.8302 - val_acc: 0.6605\n",
      "Epoch 13/30\n",
      "1985/1985 [==============================] - 40s 20ms/step - loss: 12.9006 - dice_score: 0.8146 - acc: 0.6293 - val_loss: 11.8992 - val_dice_score: 0.8302 - val_acc: 0.6605\n",
      "Epoch 14/30\n",
      "1985/1985 [==============================] - 40s 20ms/step - loss: 12.9006 - dice_score: 0.8146 - acc: 0.6293 - val_loss: 11.8992 - val_dice_score: 0.8302 - val_acc: 0.6605\n",
      "Epoch 15/30\n",
      "1985/1985 [==============================] - 40s 20ms/step - loss: 12.9006 - dice_score: 0.8146 - acc: 0.6293 - val_loss: 11.8992 - val_dice_score: 0.8302 - val_acc: 0.6605\n",
      "Epoch 16/30\n",
      "1985/1985 [==============================] - 40s 20ms/step - loss: 12.9006 - dice_score: 0.8146 - acc: 0.6293 - val_loss: 11.8992 - val_dice_score: 0.8302 - val_acc: 0.6605\n",
      "Epoch 17/30\n",
      "1985/1985 [==============================] - 40s 20ms/step - loss: 12.9006 - dice_score: 0.8146 - acc: 0.6293 - val_loss: 11.8992 - val_dice_score: 0.8302 - val_acc: 0.6605\n",
      "Epoch 18/30\n",
      "1985/1985 [==============================] - 40s 20ms/step - loss: 12.9006 - dice_score: 0.8146 - acc: 0.6293 - val_loss: 11.8992 - val_dice_score: 0.8302 - val_acc: 0.6605\n",
      "Epoch 19/30\n",
      "1985/1985 [==============================] - 40s 20ms/step - loss: 12.9006 - dice_score: 0.8146 - acc: 0.6293 - val_loss: 11.8992 - val_dice_score: 0.8302 - val_acc: 0.6605\n",
      "Epoch 20/30\n",
      "1985/1985 [==============================] - 40s 20ms/step - loss: 12.9006 - dice_score: 0.8146 - acc: 0.6293 - val_loss: 11.8992 - val_dice_score: 0.8302 - val_acc: 0.6605\n",
      "Epoch 21/30\n",
      "1985/1985 [==============================] - 40s 20ms/step - loss: 12.9006 - dice_score: 0.8146 - acc: 0.6293 - val_loss: 11.8992 - val_dice_score: 0.8302 - val_acc: 0.6605\n",
      "Epoch 22/30\n",
      "1985/1985 [==============================] - 40s 20ms/step - loss: 12.9006 - dice_score: 0.8146 - acc: 0.6293 - val_loss: 11.8992 - val_dice_score: 0.8302 - val_acc: 0.6605\n",
      "Epoch 23/30\n",
      "1985/1985 [==============================] - 40s 20ms/step - loss: 12.9006 - dice_score: 0.8146 - acc: 0.6293 - val_loss: 11.8992 - val_dice_score: 0.8302 - val_acc: 0.6605\n",
      "Epoch 24/30\n",
      "1985/1985 [==============================] - 40s 20ms/step - loss: 12.9006 - dice_score: 0.8146 - acc: 0.6293 - val_loss: 11.8992 - val_dice_score: 0.8302 - val_acc: 0.6605\n",
      "Epoch 25/30\n",
      "1985/1985 [==============================] - 40s 20ms/step - loss: 12.9006 - dice_score: 0.8146 - acc: 0.6293 - val_loss: 11.8992 - val_dice_score: 0.8302 - val_acc: 0.6605\n",
      "Epoch 26/30\n",
      "1985/1985 [==============================] - 40s 20ms/step - loss: 12.9006 - dice_score: 0.8146 - acc: 0.6293 - val_loss: 11.8992 - val_dice_score: 0.8302 - val_acc: 0.6605\n",
      "Epoch 27/30\n",
      "1985/1985 [==============================] - 40s 20ms/step - loss: 12.9006 - dice_score: 0.8146 - acc: 0.6293 - val_loss: 11.8992 - val_dice_score: 0.8302 - val_acc: 0.6605\n",
      "Epoch 28/30\n",
      "1985/1985 [==============================] - 40s 20ms/step - loss: 12.9006 - dice_score: 0.8146 - acc: 0.6293 - val_loss: 11.8992 - val_dice_score: 0.8302 - val_acc: 0.6605\n",
      "Epoch 29/30\n",
      "1985/1985 [==============================] - 40s 20ms/step - loss: 12.9006 - dice_score: 0.8146 - acc: 0.6293 - val_loss: 11.8992 - val_dice_score: 0.8302 - val_acc: 0.6605\n",
      "Epoch 30/30\n",
      "1985/1985 [==============================] - 40s 20ms/step - loss: 12.9006 - dice_score: 0.8146 - acc: 0.6293 - val_loss: 11.8992 - val_dice_score: 0.8302 - val_acc: 0.6605\n",
      "Time elapsed (hh:mm:ss.ms) 0:19:59.987804\n"
     ]
    }
   ],
   "source": [
    "autoencoder.compile(optimizer=adam, loss=combined_loss(2), metrics=[dice_score, 'accuracy'])\n",
    "start_time = datetime.now() \n",
    "history = autoencoder.fit(x_train, y_train[:,:,:,np.newaxis],\n",
    "                epochs=30,\n",
    "                batch_size=32,\n",
    "                shuffle=True,\n",
    "                validation_data=(x_val, y_val[:,:,:,np.newaxis]))\n",
    "print('Time elapsed (hh:mm:ss.ms) {}'.format(datetime.now() - start_time))"
   ]
  },
  {
   "cell_type": "code",
   "execution_count": 36,
   "metadata": {
    "colab": {
     "base_uri": "https://localhost:8080/",
     "height": 286
    },
    "colab_type": "code",
    "executionInfo": {
     "elapsed": 505,
     "status": "ok",
     "timestamp": 1567375433357,
     "user": {
      "displayName": "Swarnalata patra",
      "photoUrl": "https://lh3.googleusercontent.com/a-/AAuE7mDHwvq5ieIsBjvZ7af_tHAEz7Fbv0U4hvjWIkrWEQ=s64",
      "userId": "04308854459757051514"
     },
     "user_tz": -120
    },
    "id": "wmSF5dYY2re-",
    "outputId": "18472099-f9c4-4130-8f83-28d0c2a6fe09"
   },
   "outputs": [
    {
     "data": {
      "text/plain": [
       "<matplotlib.image.AxesImage at 0x7f0478083748>"
      ]
     },
     "execution_count": 36,
     "metadata": {
      "tags": []
     },
     "output_type": "execute_result"
    },
    {
     "data": {
      "image/png": "[encoded data removed]",
      "text/plain": [
       "<Figure size 432x288 with 1 Axes>"
      ]
     },
     "metadata": {
      "tags": []
     },
     "output_type": "display_data"
    }
   ],
   "source": [
    "plt.imshow((y_train[5]),cmap=\"gray\")"
   ]
  },
  {
   "cell_type": "code",
   "execution_count": 41,
   "metadata": {
    "colab": {
     "base_uri": "https://localhost:8080/",
     "height": 286
    },
    "colab_type": "code",
    "executionInfo": {
     "elapsed": 506,
     "status": "ok",
     "timestamp": 1567375512811,
     "user": {
      "displayName": "Swarnalata patra",
      "photoUrl": "https://lh3.googleusercontent.com/a-/AAuE7mDHwvq5ieIsBjvZ7af_tHAEz7Fbv0U4hvjWIkrWEQ=s64",
      "userId": "04308854459757051514"
     },
     "user_tz": -120
    },
    "id": "6_6mYRjJKyWw",
    "outputId": "0d2ee285-1556-4edd-d732-3736d941c88b"
   },
   "outputs": [
    {
     "data": {
      "text/plain": [
       "<matplotlib.image.AxesImage at 0x7f0477ec5898>"
      ]
     },
     "execution_count": 41,
     "metadata": {
      "tags": []
     },
     "output_type": "execute_result"
    },
    {
     "data": {
      "image/png": "[encoded data removed]",
      "text/plain": [
       "<Figure size 432x288 with 1 Axes>"
      ]
     },
     "metadata": {
      "tags": []
     },
     "output_type": "display_data"
    }
   ],
   "source": [
    "# visualize outputs:\n",
    "pred = autoencoder.predict(x_train[100:101])\n",
    "plt.imshow(pred[0][:,:,0],cmap=\"gray\")"
   ]
  },
  {
   "cell_type": "code",
   "execution_count": 48,
   "metadata": {
    "colab": {
     "base_uri": "https://localhost:8080/",
     "height": 34
    },
    "colab_type": "code",
    "collapsed": true,
    "executionInfo": {
     "elapsed": 341,
     "status": "ok",
     "timestamp": 1567375593351,
     "user": {
      "displayName": "Swarnalata patra",
      "photoUrl": "https://lh3.googleusercontent.com/a-/AAuE7mDHwvq5ieIsBjvZ7af_tHAEz7Fbv0U4hvjWIkrWEQ=s64",
      "userId": "04308854459757051514"
     },
     "user_tz": -120
    },
    "id": "UYs4vsWIKyWy",
    "outputId": "d3012aa2-754c-42bd-9c0d-682311c3fa57"
   },
   "outputs": [
    {
     "data": {
      "text/plain": [
       "(array([], dtype=int64), array([], dtype=int64), array([], dtype=int64))"
      ]
     },
     "execution_count": 48,
     "metadata": {
      "tags": []
     },
     "output_type": "execute_result"
    }
   ],
   "source": [
    "np.where(pred[0]!=0)\n",
    "#All dark output"
   ]
  },
  {
   "cell_type": "code",
   "execution_count": 49,
   "metadata": {
    "colab": {
     "base_uri": "https://localhost:8080/",
     "height": 286
    },
    "colab_type": "code",
    "executionInfo": {
     "elapsed": 499,
     "status": "ok",
     "timestamp": 1567375622382,
     "user": {
      "displayName": "Swarnalata patra",
      "photoUrl": "https://lh3.googleusercontent.com/a-/AAuE7mDHwvq5ieIsBjvZ7af_tHAEz7Fbv0U4hvjWIkrWEQ=s64",
      "userId": "04308854459757051514"
     },
     "user_tz": -120
    },
    "id": "r53HooCnKyW0",
    "outputId": "6d243d94-6420-4e2e-be85-483c4cae2951"
   },
   "outputs": [
    {
     "data": {
      "text/plain": [
       "<matplotlib.image.AxesImage at 0x7f0477ea6d68>"
      ]
     },
     "execution_count": 49,
     "metadata": {
      "tags": []
     },
     "output_type": "execute_result"
    },
    {
     "data": {
      "image/png": "[encoded data removed]",
      "text/plain": [
       "<Figure size 432x288 with 1 Axes>"
      ]
     },
     "metadata": {
      "tags": []
     },
     "output_type": "display_data"
    }
   ],
   "source": [
    "plt.imshow(y_train[5],cmap=\"gray\")"
   ]
  },
  {
   "cell_type": "markdown",
   "metadata": {
    "colab_type": "text",
    "id": "mNLYTEqUzbRn"
   },
   "source": [
    "#### ROC Curve"
   ]
  },
  {
   "cell_type": "code",
   "execution_count": 52,
   "metadata": {
    "colab": {
     "base_uri": "https://localhost:8080/",
     "height": 300
    },
    "colab_type": "code",
    "executionInfo": {
     "elapsed": 2623,
     "status": "ok",
     "timestamp": 1567375663462,
     "user": {
      "displayName": "Swarnalata patra",
      "photoUrl": "https://lh3.googleusercontent.com/a-/AAuE7mDHwvq5ieIsBjvZ7af_tHAEz7Fbv0U4hvjWIkrWEQ=s64",
      "userId": "04308854459757051514"
     },
     "user_tz": -120
    },
    "id": "GxQWt7zSKyW3",
    "outputId": "9643f4b7-2012-4c7a-9196-5edb27a8f641"
   },
   "outputs": [
    {
     "name": "stdout",
     "output_type": "stream",
     "text": [
      "auc: 0.5\n"
     ]
    },
    {
     "data": {
      "image/png": "[encoded data removed]",
      "text/plain": [
       "<Figure size 432x288 with 1 Axes>"
      ]
     },
     "metadata": {
      "tags": []
     },
     "output_type": "display_data"
    }
   ],
   "source": [
    "# \n",
    "from sklearn.metrics import roc_curve\n",
    "from sklearn.metrics import roc_auc_score\n",
    "from sklearn.metrics import f1_score\n",
    "\n",
    "pred = autoencoder.predict(x_train[0:50])\n",
    "auc = roc_auc_score(y_train[0:50].flatten().astype(\"int64\"), pred.flatten())\n",
    "fpr, tpr, thresholds = roc_curve(y_train[0:50].flatten().astype(\"int64\"), pred.flatten())\n",
    "\n",
    "plt.plot(fpr,tpr,marker='.',label='roc curve')\n",
    "plt.plot([0, 1], [0, 1], linestyle='--',label='refernce line')\n",
    "plt.legend(loc='upper left')\n",
    "plt.xlabel(\"False Positive Rate(FPR)\")\n",
    "plt.ylabel(\"True Positive Rate(TPR)\")\n",
    "\n",
    "print(\"auc: \"+str(auc))"
   ]
  },
  {
   "cell_type": "markdown",
   "metadata": {
    "colab_type": "text",
    "id": "SiOReKWHzgKJ"
   },
   "source": [
    "#### F1 Score"
   ]
  },
  {
   "cell_type": "code",
   "execution_count": 55,
   "metadata": {
    "colab": {
     "base_uri": "https://localhost:8080/",
     "height": 88
    },
    "colab_type": "code",
    "executionInfo": {
     "elapsed": 874,
     "status": "ok",
     "timestamp": 1567375709723,
     "user": {
      "displayName": "Swarnalata patra",
      "photoUrl": "https://lh3.googleusercontent.com/a-/AAuE7mDHwvq5ieIsBjvZ7af_tHAEz7Fbv0U4hvjWIkrWEQ=s64",
      "userId": "04308854459757051514"
     },
     "user_tz": -120
    },
    "id": "eVc7zkf6KyW5",
    "outputId": "e110b0ef-f009-410e-e68c-f3ecab9cd9ff"
   },
   "outputs": [
    {
     "name": "stdout",
     "output_type": "stream",
     "text": [
      "f1 score: 0.0\n"
     ]
    },
    {
     "name": "stderr",
     "output_type": "stream",
     "text": [
      "/usr/local/lib/python3.6/dist-packages/sklearn/metrics/classification.py:1437: UndefinedMetricWarning: F-score is ill-defined and being set to 0.0 due to no predicted samples.\n",
      "  'precision', 'predicted', average, warn_for)\n"
     ]
    }
   ],
   "source": [
    "thresh = 0.5\n",
    "f1 = f1_score(y_train[0:50].flatten().astype(\"int64\"), np.array(pred > thresh).flatten())\n",
    "print(\"f1 score: \"+str(f1))"
   ]
  },
  {
   "cell_type": "markdown",
   "metadata": {
    "colab_type": "text",
    "id": "M5zkXyYOzoK1"
   },
   "source": [
    "#### Precision-Recall Curve"
   ]
  },
  {
   "cell_type": "code",
   "execution_count": 57,
   "metadata": {
    "colab": {
     "base_uri": "https://localhost:8080/",
     "height": 286
    },
    "colab_type": "code",
    "executionInfo": {
     "elapsed": 733,
     "status": "ok",
     "timestamp": 1567375723839,
     "user": {
      "displayName": "Swarnalata patra",
      "photoUrl": "https://lh3.googleusercontent.com/a-/AAuE7mDHwvq5ieIsBjvZ7af_tHAEz7Fbv0U4hvjWIkrWEQ=s64",
      "userId": "04308854459757051514"
     },
     "user_tz": -120
    },
    "id": "64pndKeGKyW8",
    "outputId": "2a8e1b29-323f-4044-a9c2-33cb84416a74"
   },
   "outputs": [
    {
     "data": {
      "text/plain": [
       "[<matplotlib.lines.Line2D at 0x7f0475b38710>]"
      ]
     },
     "execution_count": 57,
     "metadata": {
      "tags": []
     },
     "output_type": "execute_result"
    },
    {
     "data": {
      "image/png": "[encoded data removed]",
      "text/plain": [
       "<Figure size 432x288 with 1 Axes>"
      ]
     },
     "metadata": {
      "tags": []
     },
     "output_type": "display_data"
    }
   ],
   "source": [
    "from sklearn.metrics import precision_recall_curve\n",
    "precision, recall, _ = precision_recall_curve(y_train[0:50].flatten().astype(\"int64\"), np.array(pred > thresh).flatten())\n",
    "plt.plot(precision,recall)"
   ]
  },
  {
   "cell_type": "markdown",
   "metadata": {
    "colab_type": "text",
    "id": "v2ogz-xD0CM-"
   },
   "source": [
    "#### Confusion Matrix"
   ]
  },
  {
   "cell_type": "code",
   "execution_count": 59,
   "metadata": {
    "colab": {
     "base_uri": "https://localhost:8080/",
     "height": 51
    },
    "colab_type": "code",
    "executionInfo": {
     "elapsed": 5014,
     "status": "ok",
     "timestamp": 1567375737748,
     "user": {
      "displayName": "Swarnalata patra",
      "photoUrl": "https://lh3.googleusercontent.com/a-/AAuE7mDHwvq5ieIsBjvZ7af_tHAEz7Fbv0U4hvjWIkrWEQ=s64",
      "userId": "04308854459757051514"
     },
     "user_tz": -120
    },
    "id": "BDNz20gNKyW9",
    "outputId": "a0e34f1a-a26a-445c-e560-8be9f6cb0192"
   },
   "outputs": [
    {
     "data": {
      "text/plain": [
       "array([[1127451,       0],\n",
       "       [ 715749,       0]])"
      ]
     },
     "execution_count": 59,
     "metadata": {
      "tags": []
     },
     "output_type": "execute_result"
    }
   ],
   "source": [
    "from sklearn.metrics import confusion_matrix\n",
    "confusion_matrix(y_train[0:50].flatten().astype(\"int64\"), np.array(pred >= thresh).flatten())"
   ]
  },
  {
   "cell_type": "markdown",
   "metadata": {
    "colab_type": "text",
    "id": "3KgrBw9J0F6Z"
   },
   "source": [
    "#### Learning Curve"
   ]
  },
  {
   "cell_type": "code",
   "execution_count": 61,
   "metadata": {
    "colab": {
     "base_uri": "https://localhost:8080/",
     "height": 590
    },
    "colab_type": "code",
    "executionInfo": {
     "elapsed": 921,
     "status": "ok",
     "timestamp": 1567375793061,
     "user": {
      "displayName": "Swarnalata patra",
      "photoUrl": "https://lh3.googleusercontent.com/a-/AAuE7mDHwvq5ieIsBjvZ7af_tHAEz7Fbv0U4hvjWIkrWEQ=s64",
      "userId": "04308854459757051514"
     },
     "user_tz": -120
    },
    "id": "fFvc-rY4KyW_",
    "outputId": "759fd59a-12fc-44dd-e35f-4952b8835284"
   },
   "outputs": [
    {
     "name": "stdout",
     "output_type": "stream",
     "text": [
      "dict_keys(['val_loss', 'val_dice_score', 'val_acc', 'loss', 'dice_score', 'acc'])\n"
     ]
    },
    {
     "data": {
      "image/png": "[encoded data removed]",
      "text/plain": [
       "<Figure size 432x288 with 1 Axes>"
      ]
     },
     "metadata": {
      "tags": []
     },
     "output_type": "display_data"
    },
    {
     "data": {
      "image/png": "[encoded data removed]",
      "text/plain": [
       "<Figure size 432x288 with 1 Axes>"
      ]
     },
     "metadata": {
      "tags": []
     },
     "output_type": "display_data"
    }
   ],
   "source": [
    "# plot learning curve \n",
    "%matplotlib inline\n",
    "print(history.history.keys())\n",
    "# summarize history for accuracy\n",
    "plt.plot(history.history['acc'])\n",
    "plt.plot(history.history['val_acc'])\n",
    "plt.title('model accuracy')\n",
    "plt.ylabel('accuracy')\n",
    "plt.xlabel('epoch')\n",
    "plt.legend(['train', 'test'], loc='right')\n",
    "plt.show()\n",
    "# summarize history for loss\n",
    "plt.plot(history.history['loss'])\n",
    "plt.plot(history.history['val_loss'])\n",
    "plt.title('model loss')\n",
    "plt.ylabel('loss')\n",
    "plt.xlabel('epoch')\n",
    "plt.legend(['train', 'test'], loc='right')\n",
    "plt.show()"
   ]
  },
  {
   "cell_type": "code",
   "execution_count": 0,
   "metadata": {
    "colab": {},
    "colab_type": "code",
    "id": "iDTkjOwVKyXI"
   },
   "outputs": [],
   "source": [
    "# model_json = autoencoder.to_json()\n",
    "# with open(\"seg1.json\", \"w\") as json_file:\n",
    "#     json_file.write(model_json)\n",
    "# # serialize weights to HDF5\n",
    "# autoencoder.save_weights(\"seg1.h5\")\n",
    "# autoencoder.save('seg1-20Epoch.h5')\n",
    "\n",
    "from keras.models import model_from_json\n",
    "json_file = open('seg1.json', 'r')\n",
    "loaded_model_json = json_file.read()\n",
    "json_file.close()\n",
    "loaded_model = model_from_json(loaded_model_json)\n",
    "# load weights into new model\n",
    "loaded_model.load_weights(\"seg1.h5\")"
   ]
  },
  {
   "cell_type": "code",
   "execution_count": 0,
   "metadata": {
    "colab": {},
    "colab_type": "code",
    "id": "qRQZD5okKyXK",
    "outputId": "faf63d36-ba84-454b-d314-df2b81097364"
   },
   "outputs": [
    {
     "name": "stdout",
     "output_type": "stream",
     "text": [
      "WARNING:tensorflow:From C:\\Users\\amrapali\\Anaconda3\\lib\\site-packages\\tensorflow\\python\\ops\\math_ops.py:3066: to_int32 (from tensorflow.python.ops.math_ops) is deprecated and will be removed in a future version.\n",
      "Instructions for updating:\n",
      "Use tf.cast instead.\n"
     ]
    }
   ],
   "source": [
    "loaded_model = keras.models.load_model(\"seg1-20Epoch.h5\")"
   ]
  },
  {
   "cell_type": "code",
   "execution_count": 64,
   "metadata": {
    "colab": {
     "base_uri": "https://localhost:8080/",
     "height": 286
    },
    "colab_type": "code",
    "collapsed": true,
    "executionInfo": {
     "elapsed": 527,
     "status": "ok",
     "timestamp": 1567375900704,
     "user": {
      "displayName": "Swarnalata patra",
      "photoUrl": "https://lh3.googleusercontent.com/a-/AAuE7mDHwvq5ieIsBjvZ7af_tHAEz7Fbv0U4hvjWIkrWEQ=s64",
      "userId": "04308854459757051514"
     },
     "user_tz": -120
    },
    "id": "EVvr3_bwKyXX",
    "outputId": "71a2a6a6-d1fe-4c35-be9b-aea05e9906c5"
   },
   "outputs": [
    {
     "data": {
      "text/plain": [
       "<matplotlib.image.AxesImage at 0x7f04758fea58>"
      ]
     },
     "execution_count": 64,
     "metadata": {
      "tags": []
     },
     "output_type": "execute_result"
    },
    {
     "data": {
      "image/png": "[encoded data removed]",
      "text/plain": [
       "<Figure size 432x288 with 1 Axes>"
      ]
     },
     "metadata": {
      "tags": []
     },
     "output_type": "display_data"
    }
   ],
   "source": [
    "plt.imshow(y_train[35],cmap=\"gray\")"
   ]
  }
 ],
 "metadata": {
  "accelerator": "GPU",
  "colab": {
   "collapsed_sections": [
    "JfI58OJFKyVb",
    "S8y4fGCUKyVe",
    "zHMwCrVUKyVh",
    "bjny_lKbKyVk",
    "zWJyL5adKyV0",
    "xADTC6YgKyWC"
   ],
   "name": "segmentation_Amrapali.ipynb",
   "provenance": [],
   "toc_visible": true,
   "version": "0.3.2"
  },
  "kernelspec": {
   "display_name": "Python 3",
   "language": "python",
   "name": "python3"
  },
  "language_info": {
   "codemirror_mode": {
    "name": "ipython",
    "version": 3
   },
   "file_extension": ".py",
   "mimetype": "text/x-python",
   "name": "python",
   "nbconvert_exporter": "python",
   "pygments_lexer": "ipython3",
   "version": "3.6.9"
  }
 },
 "nbformat": 4,
 "nbformat_minor": 1
}
